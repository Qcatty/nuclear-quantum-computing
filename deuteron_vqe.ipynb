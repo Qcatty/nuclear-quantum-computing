{
 "cells": [
  {
   "cell_type": "code",
   "execution_count": 1,
   "metadata": {},
   "outputs": [],
   "source": [
    "# This cell is added by sphinx-gallery\n",
    "# It can be customized to whatever you like\n",
    "%matplotlib inline"
   ]
  },
  {
   "cell_type": "markdown",
   "metadata": {},
   "source": [
    "\n",
    "Accelerating VQEs with quantum natural gradient\n",
    "===============================================\n",
    "\n",
    ".. meta::\n",
    "    :property=\"og:description\": Accelerating variational quantum eigensolvers\n",
    "        using quantum natural gradients in PennyLane.\n",
    "    :property=\"og:image\": https://pennylane.ai/qml/_images/qng_example.png\n",
    "\n",
    ".. related::\n",
    "\n",
    "   tutorial_vqe Variational quantum eigensolver\n",
    "   tutorial_quantum_natural_gradient Quantum natural gradient\n",
    "\n",
    "*Authors: Maggie Li, Lana Bozanic, Sukin Sim (ssim@g.harvard.edu). Last updated: 8 Apr 2021.*\n",
    "\n",
    "This tutorial showcases how one can apply quantum natural gradients (QNG) [#stokes2019]_ [#yamamoto2019]_\n",
    "to accelerate the optimization step of the Variational Quantum Eigensolver (VQE) algorithm [#peruzzo2014]_.\n",
    "We will implement two small examples: estimating the ground state energy of (1) a single-qubit VQE\n",
    "problem, which we can visualize using the Bloch sphere, and (2) the hydrogen molecule.\n",
    "\n",
    "Before going through this tutorial, we recommend that readers refer to the\n",
    ":doc:`QNG tutorial </demos/tutorial_quantum_natural_gradient>` and\n",
    ":doc:`VQE tutorial </demos/tutorial_vqe>` for overviews\n",
    "of quantum natural gradient and the variational quantum eigensolver algorithm, respectively.\n",
    "Let's get started!\n",
    "\n",
    "\n",
    "(1) Single-qubit VQE example\n",
    "----------------------------\n",
    "\n",
    "The first step is to import the required libraries and packages:\n"
   ]
  },
  {
   "cell_type": "code",
   "execution_count": 112,
   "metadata": {},
   "outputs": [],
   "source": [
    "import matplotlib.pyplot as plt\n",
    "from pennylane import numpy as np\n",
    "import pennylane as qml"
   ]
  },
  {
   "cell_type": "markdown",
   "metadata": {},
   "source": [
    "For this simple example, we consider the following single-qubit Hamiltonian: $\\sigma_x + \\sigma_z$.\n",
    "\n",
    "We define the device:\n",
    "\n"
   ]
  },
  {
   "cell_type": "code",
   "execution_count": 119,
   "metadata": {},
   "outputs": [],
   "source": [
    "dev = qml.device(\"default.qubit\", wires=3)"
   ]
  },
  {
   "cell_type": "markdown",
   "metadata": {},
   "source": [
    "For the variational ansatz, we use two single-qubit rotations, which the user may recognize\n",
    "from a previous :doc:`tutorial </demos/tutorial_qubit_rotation>` on qubit rotations.\n",
    "\n"
   ]
  },
  {
   "cell_type": "code",
   "execution_count": 120,
   "metadata": {},
   "outputs": [],
   "source": [
    "def circuit_4(params,wires):\n",
    "    t0 = params[0]\n",
    "    t1 = params[1]\n",
    "    t2 = params[2]\n",
    "    qml.PauliX(wires=0)\n",
    "    qml.RY(t2, wires=1)\n",
    "    qml.RY(t1, wires=2)\n",
    "    qml.RY(t0, wires=3)\n",
    "    qml.CNOT(wires=[3,0])\n",
    "    qml.CNOT(wires=[0,2])\n",
    "    qml.RY(-t1, wires=2)\n",
    "    qml.CNOT(wires=[0,2])\n",
    "    qml.CNOT(wires=[2,0])\n",
    "    #qml.CNOT(wires=[1,0])\n",
    "    qml.CNOT(wires=[0,1])\n",
    "    qml.RY(-t1, wires=2)\n",
    "    qml.CNOT(wires=[0,1])\n",
    "    qml.CNOT(wires=[1,0])\n",
    "def circuit_3(params,wires):\n",
    "    t0 = params[0]\n",
    "    t1 = params[1]\n",
    "    qml.PauliX(wires=0)\n",
    "    qml.RY(t1, wires=1)\n",
    "    qml.RY(t0, wires=2)\n",
    "    qml.CNOT(wires=[2,0])\n",
    "    qml.CNOT(wires=[0,1])\n",
    "    qml.RY(-t1, wires=1)\n",
    "    qml.CNOT(wires=[0,1])\n",
    "    qml.CNOT(wires=[1,0])\n"
   ]
  },
  {
   "cell_type": "markdown",
   "metadata": {},
   "source": [
    "We then define our cost function using the ``ExpvalCost`` class, which supports the computation of\n",
    "block-diagonal or diagonal approximations to the Fubini-Study metric tensor [#stokes2019]_. This tensor is a\n",
    "crucial component for optimizing with quantum natural gradients.\n",
    "\n"
   ]
  },
  {
   "cell_type": "code",
   "execution_count": null,
   "metadata": {},
   "outputs": [],
   "source": [
    "coeffs = [1, 1]\n",
    "obs = [qml.PauliX(0), qml.PauliZ(0)]\n",
    "coeffs = [15.531709 ,-2.1433, -2.1433, 0.21829, -6.125, -9.625, -3.91, -3.91]\n",
    "obs = [qml.Identity(0),qml.PauliX(0) @ qml.PauliX(1), qml.PauliY(0) @ qml.PauliY(1),qml.PauliZ(0),qml.PauliZ(1),qml.PauliZ(2),qml.PauliX(1) @ qml.PauliX(2),qml.PauliY(1) @ qml.PauliY(2)]\n",
    "\n",
    "H = qml.Hamiltonian(coeffs, obs)\n",
    "cost_fn = qml.ExpvalCost(circuit, H, dev)\n",
    "print(H)"
   ]
  },
  {
   "cell_type": "code",
   "execution_count": 146,
   "metadata": {},
   "outputs": [],
   "source": [
    "def kron(i,j):\n",
    "    if(i==j):\n",
    "        return 1\n",
    "    else:\n",
    "        return 0\n",
    "\n",
    "def matrix_element(i,j):\n",
    "    \n",
    "    ele = 0.0\n",
    "    \n",
    "    ele = ((2.0*i + 1.5)*kron(i,j) - np.sqrt(i*(i+0.5))*kron(i,j+1) \\\n",
    "    - np.sqrt((i+1)*(i+1.5))*kron(i,j-1)) * 3.5\n",
    "    \n",
    "    ele += -5.68658111 * kron(i,0) * kron(i,j)\n",
    "    \n",
    "    \n",
    "    return ele\n",
    "\n",
    "def pauli_token_to_operator(token):\n",
    "    \"\"\"\n",
    "    DO NOT MODIFY anything in this function! It is used to judge your solution.\n",
    "\n",
    "    Helper function to turn strings into qml operators.\n",
    "\n",
    "    Args:\n",
    "        token (str): A Pauli operator input in string form.\n",
    "\n",
    "    Returns:\n",
    "        A qml.Operator instance of the Pauli.\n",
    "    \"\"\"\n",
    "    qubit_terms = []\n",
    "\n",
    "    for term in range(len(token)):\n",
    "        # Special case of identity\n",
    "        if token[term] == \"I\":\n",
    "            pass\n",
    "        else:\n",
    "            #pauli, qubit_idx = term, term\n",
    "            if token[term] == \"X\":\n",
    "                qubit_terms.append(qml.PauliX(int(term)))\n",
    "            elif token[term] == \"Y\":\n",
    "                qubit_terms.append(qml.PauliY(int(term)))\n",
    "            elif token[term] == \"Z\":\n",
    "                qubit_terms.append(qml.PauliZ(int(term)))\n",
    "            else:\n",
    "                print(\"Invalid input.\")\n",
    "    if(qubit_terms==[]):\n",
    "            qubit_terms.append(qml.Identity(0))\n",
    "    full_term = qubit_terms[0]\n",
    "    for term in qubit_terms[1:]:\n",
    "        full_term = full_term @ term\n",
    "\n",
    "    return full_term\n",
    "\n",
    "\n",
    "def parse_hamiltonian_input(input_data):\n",
    "    \"\"\"\n",
    "    DO NOT MODIFY anything in this function! It is used to judge your solution.\n",
    "\n",
    "    Turns the contents of the input file into a Hamiltonian.\n",
    "\n",
    "    Args:\n",
    "        filename(str): Name of the input file that contains the Hamiltonian.\n",
    "\n",
    "    Returns:\n",
    "        qml.Hamiltonian object of the Hamiltonian specified in the file.\n",
    "    \"\"\"\n",
    "    # Get the input\n",
    "    coeffs = []\n",
    "    pauli_terms = []\n",
    "    chunks = input_data.split(\"\\n\")\n",
    "    # Go through line by line and build up the Hamiltonian\n",
    "    for line in chunks:\n",
    "        #line = line.strip()\n",
    "        tokens = line.split(\" \")\n",
    "        # Parse coefficients\n",
    "        sign, value = tokens[0][0], tokens[1]\n",
    "\n",
    "        coeff = float(value)\n",
    "        if sign == \"-\":\n",
    "            coeff *= -1\n",
    "        coeffs.append(coeff)\n",
    "\n",
    "        # Parse Pauli component\n",
    "        pauli = tokens[3]\n",
    "        \n",
    "        pauli_terms.append(pauli_token_to_operator(pauli))\n",
    "\n",
    "    return qml.Hamiltonian(coeffs, pauli_terms)\n",
    "\n"
   ]
  },
  {
   "cell_type": "code",
   "execution_count": 147,
   "metadata": {
    "scrolled": true
   },
   "outputs": [
    {
     "name": "stdout",
     "output_type": "stream",
     "text": [
      "  (-9.625) [Z0]\n",
      "+ (-6.125) [Z1]\n",
      "+ (0.21829055499999983) [Z2]\n",
      "+ (15.531709445) [I0]\n",
      "+ (-3.913118960624632) [Y0 Y1]\n",
      "+ (-3.913118960624632) [X0 X1]\n",
      "+ (-2.1433035249352805) [Y1 Y2]\n",
      "+ (-2.1433035249352805) [X1 X2]\n"
     ]
    },
    {
     "name": "stderr",
     "output_type": "stream",
     "text": [
      "/home/kyle/.local/lib/python3.10/site-packages/pennylane/vqe/vqe.py:153: UserWarning: ExpvalCost is deprecated, use qml.expval() instead. For optimizing Hamiltonian measurements with measuring commuting terms in parallel, use the grouping_type keyword in qml.Hamiltonian.\n",
      "  warnings.warn(\n"
     ]
    }
   ],
   "source": [
    "from qiskit_nature.operators.second_quantization import FermionicOp\n",
    "from qiskit_nature.mappers.second_quantization import JordanWignerMapper, ParityMapper\n",
    "\n",
    "mapper = JordanWignerMapper()\n",
    "#mapper = ParityMapper()\n",
    "\n",
    "N = 3\n",
    "op=0\n",
    "for i in range(N):\n",
    "    for j in range(N):\n",
    "        op += matrix_element(i,j) * \\\n",
    "        FermionicOp([([(\"+\", i),(\"-\", j)], 1.0)])#,register_length=2)\n",
    "\n",
    "    #op = 30.2*FermionicOp([(\"+\",0),(\"-\",4)],register_length=2)\n",
    "#print(op)\n",
    "\n",
    "hamstr = \"+ \"+str(mapper.map(second_q_op=op))\n",
    "\n",
    "#qml.load(mapper.map(second_q_op=op),format='qiskit')\n",
    "\n",
    "hamiltonian = parse_hamiltonian_input(hamstr)\n",
    "\n",
    "print(hamiltonian)\n",
    "\n",
    "cost_fn = qml.ExpvalCost(circuit_3, hamiltonian, dev)\n"
   ]
  },
  {
   "cell_type": "markdown",
   "metadata": {},
   "source": [
    "To analyze the performance of quantum natural gradient on VQE calculations,\n",
    "we set up and execute optimizations using the ``GradientDescentOptimizer`` (which does not\n",
    "utilize quantum gradients) and the ``QNGOptimizer`` that uses the block-diagonal approximation\n",
    "to the metric tensor.\n",
    "\n",
    "To perform a fair comparison, we fix the initial parameters for the two optimizers.\n",
    "\n"
   ]
  },
  {
   "cell_type": "code",
   "execution_count": 125,
   "metadata": {},
   "outputs": [],
   "source": [
    "#init_params = np.array([3.97507603, 3.00854038])\n",
    "init_params = np.array([2.5,4.5])"
   ]
  },
  {
   "cell_type": "markdown",
   "metadata": {},
   "source": [
    "We will carry out each optimization over a maximum of 500 steps. As was done in the VQE\n",
    "tutorial, we aim to reach a convergence tolerance of around $10^{-6}$.\n",
    "We use a step size of 0.01.\n",
    "\n"
   ]
  },
  {
   "cell_type": "code",
   "execution_count": 151,
   "metadata": {},
   "outputs": [],
   "source": [
    "max_iterations = 500\n",
    "conv_tol = 1e-06\n",
    "step_size = 0.01"
   ]
  },
  {
   "cell_type": "markdown",
   "metadata": {},
   "source": [
    "First, we carry out the VQE optimization using the standard gradient descent method.\n",
    "\n"
   ]
  },
  {
   "cell_type": "code",
   "execution_count": 154,
   "metadata": {},
   "outputs": [
    {
     "name": "stdout",
     "output_type": "stream",
     "text": [
      "Iteration = 0,  Energy = 2.62754488 MeV,  Convergence parameter = 0.41528526 MeV\n",
      "Iteration = 20,  Energy = -1.45759287 MeV,  Convergence parameter = 0.07290178 MeV\n",
      "Iteration = 40,  Energy = -1.98314671 MeV,  Convergence parameter = 0.00676702 MeV\n",
      "Iteration = 60,  Energy = -2.03668718 MeV,  Convergence parameter = 0.00089606 MeV\n",
      "Iteration = 80,  Energy = -2.04435261 MeV,  Convergence parameter = 0.00013419 MeV\n",
      "Iteration = 100,  Energy = -2.04548435 MeV,  Convergence parameter = 0.00001928 MeV\n",
      "Iteration = 120,  Energy = -2.04564498 MeV,  Convergence parameter = 0.00000269 MeV\n",
      "\n",
      "Final value of the energy = -2.04566218 MeV\n",
      "Number of iterations =  131\n"
     ]
    }
   ],
   "source": [
    "opt = qml.GradientDescentOptimizer(stepsize=step_size)\n",
    "\n",
    "params = init_params\n",
    "\n",
    "gd_param_history = [params]\n",
    "gd_cost_history = []\n",
    "\n",
    "for n in range(max_iterations):\n",
    "\n",
    "    # Take step\n",
    "    params, prev_energy = opt.step_and_cost(cost_fn, params)\n",
    "    gd_param_history.append(params)\n",
    "    gd_cost_history.append(prev_energy)\n",
    "\n",
    "    energy = cost_fn(params)\n",
    "\n",
    "    # Calculate difference between new and old energies\n",
    "    conv = np.abs(energy - prev_energy)\n",
    "\n",
    "    if n % 20 == 0:\n",
    "        print(\n",
    "            \"Iteration = {:},  Energy = {:.8f} MeV,  Convergence parameter = {\"\n",
    "            \":.8f} MeV\".format(n, energy, conv)\n",
    "        )\n",
    "\n",
    "    if conv <= conv_tol:\n",
    "        break\n",
    "\n",
    "print()\n",
    "print(\"Final value of the energy = {:.8f} MeV\".format(energy))\n",
    "print(\"Number of iterations = \", n)"
   ]
  },
  {
   "cell_type": "markdown",
   "metadata": {},
   "source": [
    "We then repeat the process for the optimizer employing quantum natural gradients:\n",
    "\n"
   ]
  },
  {
   "cell_type": "code",
   "execution_count": 152,
   "metadata": {},
   "outputs": [
    {
     "name": "stdout",
     "output_type": "stream",
     "text": [
      "Iteration = 0,  Energy = 1.49924499 MeV,  Convergence parameter = 1.54358516 MeV\n",
      "Iteration = 20,  Energy = -2.04299636 MeV,  Convergence parameter = 0.00076858 MeV\n",
      "Iteration = 40,  Energy = -2.04565644 MeV,  Convergence parameter = 0.00000439 MeV\n",
      "\n",
      "Final value of the energy = -2.04566796 MeV\n",
      "Number of iterations =  46\n"
     ]
    }
   ],
   "source": [
    "opt = qml.QNGOptimizer(stepsize=step_size)\n",
    "\n",
    "params = init_params\n",
    "\n",
    "qngd_param_history = [params]\n",
    "qngd_cost_history = []\n",
    "\n",
    "for n in range(max_iterations):\n",
    "\n",
    "    # Take step\n",
    "    params, prev_energy = opt.step_and_cost(cost_fn, params)\n",
    "    qngd_param_history.append(params)\n",
    "    qngd_cost_history.append(prev_energy)\n",
    "\n",
    "    # Compute energy\n",
    "    energy = cost_fn(params)\n",
    "\n",
    "    # Calculate difference between new and old energies\n",
    "    conv = np.abs(energy - prev_energy)\n",
    "\n",
    "    if n % 20 == 0:\n",
    "        print(\n",
    "            \"Iteration = {:},  Energy = {:.8f} MeV,  Convergence parameter = {\"\n",
    "            \":.8f} MeV\".format(n, energy, conv)\n",
    "        )\n",
    "\n",
    "    if conv <= conv_tol:\n",
    "        break\n",
    "\n",
    "print()\n",
    "print(\"Final value of the energy = {:.8f} MeV\".format(energy))\n",
    "print(\"Number of iterations = \", n)"
   ]
  },
  {
   "cell_type": "markdown",
   "metadata": {},
   "source": [
    "Visualizing the results\n",
    "^^^^^^^^^^^^^^^^^^^^^^^\n",
    "\n",
    "For single-qubit examples, we can visualize the optimization process in several ways.\n",
    "\n",
    "For example, we can track the energy history:\n",
    "\n"
   ]
  },
  {
   "cell_type": "code",
   "execution_count": 153,
   "metadata": {},
   "outputs": [
    {
     "data": {
      "image/png": "[encoded data removed]",
      "text/plain": [
       "<Figure size 576x396 with 1 Axes>"
      ]
     },
     "metadata": {},
     "output_type": "display_data"
    }
   ],
   "source": [
    "plt.style.use(\"seaborn\")\n",
    "plt.plot(gd_cost_history, \"b\", label=\"Gradient descent\")\n",
    "plt.plot(qngd_cost_history, \"g\", label=\"Quantum natural gradient descent\")\n",
    "\n",
    "plt.ylabel(\"Cost function value\")\n",
    "plt.xlabel(\"Optimization steps\")\n",
    "plt.legend()\n",
    "plt.show()"
   ]
  },
  {
   "cell_type": "markdown",
   "metadata": {},
   "source": [
    "Or we can visualize the optimization path in the parameter space using a contour plot.\n",
    "Energies at different grid points have been pre-computed, and they can be downloaded by\n",
    "clicking :download:`here<../demonstrations/vqe_qng/param_landscape.npy>`.\n",
    "\n"
   ]
  },
  {
   "cell_type": "code",
   "execution_count": 82,
   "metadata": {},
   "outputs": [],
   "source": [
    "def gen_surface(theta0,theta1,cost_fn):\n",
    "    parameter_landscape = np.zeros((theta0.shape[0],theta1.shape[0]))\n",
    "    for i in range(theta0.shape[0]):\n",
    "        parameter_landscape[i,:] = cost_fn([theta0[i],theta1[:]])\n",
    "        #for j in range(theta1.shape[0]):\n",
    "        #    parameter_landscape[i,j] = cost_fn([theta0[i],theta1[j]])\n",
    "    return parameter_landscape"
   ]
  },
  {
   "cell_type": "code",
   "execution_count": 140,
   "metadata": {},
   "outputs": [
    {
     "data": {
      "image/png": "[encoded data removed]",
      "text/plain": [
       "<Figure size 432x432 with 1 Axes>"
      ]
     },
     "metadata": {},
     "output_type": "display_data"
    }
   ],
   "source": [
    "# Discretize the parameter space\n",
    "theta0 = np.linspace(0.0, 2.0 * np.pi, 100)\n",
    "theta1 = np.linspace(0.0, 2.0 * np.pi, 100)\n",
    "#print(cost_fn([theta0[40],theta1[:]]))\n",
    "#parameter_landscape = gen_surface(theta0, theta1, cost_fn)\n",
    "# Load energy value at each point in parameter space\n",
    "#parameter_landscape = np.load(\"param_landscape.npy\")\n",
    "#parameter_landscape_old = np.load(\"param_landscape.npy\")\n",
    "#np.save(\"deut_pes.npy\", parameter_landscape)\n",
    "parameter_landscape = np.load(\"deut_pes.npy\")\n",
    "minloc=np.unravel_index(parameter_landscape.argmin(),parameter_landscape.shape)\n",
    "#parameter_landscape = np.zeros(parameter_landscape_old.shape)\n",
    "#print(parameter_landscape_old.shape)\n",
    "#for i in range(theta0.shape[0]):\n",
    "#    for j in range(theta1.shape[0]):\n",
    "#        parameter_landscape[i,j] = cost_fn([theta0[i],theta1[j]])\n",
    "    \n",
    "# Plot energy landscape\n",
    "fig, axes = plt.subplots(figsize=(6, 6))\n",
    "cmap = plt.cm.get_cmap(\"coolwarm\")\n",
    "contour_plot = plt.contourf(theta0, theta1, parameter_landscape.T, cmap=cmap)\n",
    "plt.xlabel(r\"$\\theta_0$\")\n",
    "plt.ylabel(r\"$\\theta_1$\")\n",
    "plt.plot(theta0[minloc[0]],theta1[minloc[1]],\"r*\",markersize=20,label=\"Minimum\")\n",
    "\n",
    "# Plot optimization path for gradient descent. Plot every 10th point.\n",
    "gd_color = \"g\"\n",
    "plt.plot(\n",
    "    np.array(gd_param_history)[::10, 0],\n",
    "    np.array(gd_param_history)[::10, 1],\n",
    "    \".\",markersize=12,\n",
    "    color=gd_color,\n",
    "    linewidth=2,\n",
    "    label=\"Gradient descent\",\n",
    ")\n",
    "plt.plot(\n",
    "    np.array(gd_param_history)[:, 0],\n",
    "    np.array(gd_param_history)[:, 1],\n",
    "    \"-\",\n",
    "    color=gd_color,\n",
    "    linewidth=1,\n",
    ")\n",
    "# Plot optimization path for quantum natural gradient descent. Plot every 10th point.\n",
    "qngd_color = \"k\"\n",
    "plt.plot(\n",
    "    np.array(qngd_param_history)[::10, 0],\n",
    "    np.array(qngd_param_history)[::10, 1],\n",
    "    \".\",markersize=12,\n",
    "    color=qngd_color,\n",
    "    linewidth=2,\n",
    "    label=\"Quantum natural gradient descent\",\n",
    ")\n",
    "plt.plot(\n",
    "    np.array(qngd_param_history)[:, 0],\n",
    "    np.array(qngd_param_history)[:, 1],\n",
    "    \"-\",\n",
    "    color=qngd_color,\n",
    "    linewidth=1,\n",
    ")\n",
    "\n",
    "plt.legend()\n",
    "plt.show()\n"
   ]
  },
  {
   "cell_type": "markdown",
   "metadata": {},
   "source": [
    "Here, the red regions indicate states with lower energies, and the blue regions indicate\n",
    "states with higher energies. We can see that the ``QNGOptimizer`` takes a more direct\n",
    "route to the minimum in larger strides compared to the path taken by the ``GradientDescentOptimizer``.\n",
    "\n",
    "Lastly, we can visualize the same optimization paths on the Bloch sphere using routines\n",
    "from `QuTiP <http://qutip.org/>`__. The result should look like the following:\n",
    "\n",
    ".. figure:: /demonstrations/vqe_qng/opt_paths_bloch.png\n",
    "    :width: 50%\n",
    "    :align: center\n",
    "\n",
    "where again the black markers and line indicate the path taken by the ``QNGOptimizer``,\n",
    "and the green markers and line indicate the path taken by the ``GradientDescentOptimizer``.\n",
    "Using this visualization method, we can clearly see how the path using the ``QNGOptimizer`` tightly\n",
    "\"hugs\" the curvature of the Bloch sphere and takes the shorter path.\n",
    "\n",
    "Now, we will move onto a more interesting example: estimating the ground state energy\n",
    "of molecular hydrogen.\n",
    "\n",
    "(2) Hydrogen VQE Example\n",
    "------------------------\n",
    "\n",
    "To construct our system Hamiltonian, we first read the molecular geometry from\n",
    "the external file :download:`h2.xyz </demonstrations/h2.xyz>` using the\n",
    ":func:`~.pennylane_qchem.qchem.read_structure` function (see more details in the\n",
    ":doc:`tutorial_quantum_chemistry` tutorial). The molecular Hamiltonian is then\n",
    "built using the :func:`~.pennylane_qchem.qchem.molecular_hamiltonian` function.\n",
    "\n"
   ]
  },
  {
   "cell_type": "code",
   "execution_count": 75,
   "metadata": {},
   "outputs": [
    {
     "name": "stdout",
     "output_type": "stream",
     "text": [
      "(15.531709) [I0 I1]\n",
      "+ (-2.1433) [X0 X1]\n",
      "+ (-2.1433) [Y0 Y1]\n",
      "+ (0.21829) [Z0]\n",
      "+ (-6.125) [Z1]\n",
      "+ (-9.625) [Z2]\n",
      "+ (-3.91) [X1 X2]\n",
      "+ (-3.91) [Y1 Y2]\n"
     ]
    }
   ],
   "source": [
    "#geo_file = \"h2.xyz\"\n",
    "\n",
    "#symbols, coordinates = qml.qchem.read_structure(geo_file)\n",
    "#hamiltonian, qubits = qml.qchem.molecular_hamiltonian(symbols, coordinates)\n",
    "\n",
    "#15.531709 - 2.1433 X0X1 - \"\n",
    "#        \"2.1433 Y0Y1 + .21829 Z0 - 6.125 Z1 - \"\n",
    "#        \"9.625 Z2 - 3.91 X1 X2 - 3.91 Y1 Y2\n",
    "        \n",
    "coeffs = [15.531709 ,-2.1433, -2.1433, .21829, -6.125, -9.625, -3.91, -3.91]\n",
    "obs = [qml.Identity(0)@qml.Identity(1),qml.PauliX(0) @ qml.PauliX(1), qml.PauliY(0) @ qml.PauliY(1),qml.PauliZ(0),qml.PauliZ(1),qml.PauliZ(2),qml.PauliX(1) @ qml.PauliX(2),qml.PauliY(1) @ qml.PauliY(2)]\n",
    "#coeffs = [-2.1433, -2.1433, .21829, -6.125, -9.625, -3.91, -3.91]\n",
    "#obs = [qml.PauliX(0) @ qml.PauliX(1), qml.PauliY(0) @ qml.PauliY(1),qml.PauliZ(0),qml.PauliZ(1),qml.PauliZ(2),qml.PauliX(1) @ qml.PauliX(2),qml.PauliY(1) @ qml.PauliY(2)]\n",
    "H = qml.Hamiltonian(coeffs, obs)\n",
    "hamiltonian=H\n",
    "print(H)\n",
    "qubits=3\n",
    "#print(\"Number of qubits = \", qubits)"
   ]
  },
  {
   "cell_type": "markdown",
   "metadata": {},
   "source": [
    "For our ansatz, we use the circuit from the\n",
    "`VQE tutorial <https://pennylane.ai/qml/demos/tutorial_vqe.html>`__\n",
    "but expand out the arbitrary single-qubit rotations to elementary\n",
    "gates (RZ-RY-RZ).\n",
    "\n"
   ]
  },
  {
   "cell_type": "code",
   "execution_count": 76,
   "metadata": {},
   "outputs": [],
   "source": [
    "dev = qml.device(\"default.qubit\", wires=qubits)\n",
    "hf_state = np.array([1, 1, 0, 0], requires_grad=False)\n",
    "'''\n",
    "def ansatz(params, wires=[0, 1, 2]):\n",
    "    #qml.BasisState(hf_state, wires=wires)\n",
    "    for i in wires:\n",
    "        qml.RZ(params[3 * i], wires=i)\n",
    "        qml.RY(params[3 * i + 1], wires=i)\n",
    "        #qml.RZ(params[3 * i + 2], wires=i)\n",
    "    qml.CNOT(wires=[2, 1])\n",
    "    qml.CNOT(wires=[2, 0])\n",
    "    #qml.CNOT(wires=[3, 1])\n",
    "'''\n",
    "def ansatz(params, wires=[0,1,2]):\n",
    "    #for i in wires:\n",
    "    qml.PauliX(0)\n",
    "    qml.RY(params[0],wires=1)\n",
    "    qml.RY(params[1],wires=2)\n",
    "    qml.CNOT(wires=[2,0])\n",
    "    qml.CNOT(wires=[0,1])\n",
    "    qml.RY(-params[0],wires=1)\n",
    "    qml.CNOT(wires=[0,1])\n",
    "    qml.CNOT(wires=[1,0])\n",
    "\n",
    "#print(params)"
   ]
  },
  {
   "cell_type": "markdown",
   "metadata": {},
   "source": [
    "Note that the qubit register has been initialized to $|1100\\rangle$, which encodes for\n",
    "the Hartree-Fock state of the hydrogen molecule described in the minimal basis.\n",
    "Again, we define the cost function using the ``ExpvalCost`` class.\n",
    "\n"
   ]
  },
  {
   "cell_type": "code",
   "execution_count": 77,
   "metadata": {},
   "outputs": [],
   "source": [
    "cost = qml.ExpvalCost(ansatz, hamiltonian, dev, diff_method=\"parameter-shift\")"
   ]
  },
  {
   "cell_type": "markdown",
   "metadata": {},
   "source": [
    "For this problem, we can compute the exact value of the\n",
    "ground state energy via exact diagonalization. We provide the value below.\n",
    "\n"
   ]
  },
  {
   "cell_type": "code",
   "execution_count": 78,
   "metadata": {},
   "outputs": [],
   "source": [
    "exact_value = -2.22"
   ]
  },
  {
   "cell_type": "markdown",
   "metadata": {},
   "source": [
    "We now set up our optimizations runs.\n",
    "\n"
   ]
  },
  {
   "cell_type": "code",
   "execution_count": 92,
   "metadata": {},
   "outputs": [],
   "source": [
    "np.random.seed(0)\n",
    "init_params = np.random.uniform(low=0, high=2 * np.pi, size=3)#(qubits-1))\n",
    "max_iterations = 500\n",
    "step_size = 0.01\n",
    "conv_tol = 1e-09"
   ]
  },
  {
   "cell_type": "markdown",
   "metadata": {},
   "source": [
    "As was done with our previous VQE example, we run the standard gradient descent\n",
    "optimizer.\n",
    "\n"
   ]
  },
  {
   "cell_type": "code",
   "execution_count": 93,
   "metadata": {},
   "outputs": [
    {
     "name": "stdout",
     "output_type": "stream",
     "text": [
      "Iteration = 0,  Energy = 7.08874905 Ha, C = 1.6357e+00\n",
      "Iteration = 20,  Energy = -1.72667384 Ha, C = 5.9942e-02\n",
      "Iteration = 40,  Energy = -2.03551209 Ha, C = 1.8440e-03\n",
      "Iteration = 60,  Energy = -2.04482410 Ha, C = 5.4870e-05\n",
      "Iteration = 80,  Energy = -2.04510127 Ha, C = 1.6346e-06\n",
      "Iteration = 100,  Energy = -2.04510953 Ha, C = 4.8713e-08\n",
      "Iteration = 120,  Energy = -2.04510978 Ha, C = 1.4519e-09\n",
      "\n",
      "Final convergence parameter = 0.00000000 Ha\n",
      "Number of iterations =  123\n",
      "Final value of the ground-state energy = -2.04510978 Ha\n",
      "Accuracy with respect to the FCI energy: 0.17489022 Ha (0.17489022 kcal/mol)\n",
      "\n",
      "Final circuit parameters = \n",
      " [3.50058904 6.02654419 3.78727399]\n"
     ]
    }
   ],
   "source": [
    "opt = qml.GradientDescentOptimizer(step_size)\n",
    "\n",
    "params = init_params\n",
    "\n",
    "gd_cost = []\n",
    "\n",
    "for n in range(max_iterations):\n",
    "    params, prev_energy = opt.step_and_cost(cost, params)\n",
    "    gd_cost.append(prev_energy)\n",
    "\n",
    "    energy = cost(params)\n",
    "    conv = np.abs(energy - prev_energy)\n",
    "\n",
    "    if n % 20 == 0:\n",
    "        print(\n",
    "            \"Iteration = {:},  Energy = {:.8f} Ha, C = {:.4e}\".format(n, energy, conv)\n",
    "        )\n",
    "\n",
    "    if conv <= conv_tol:\n",
    "        break\n",
    "\n",
    "\n",
    "print()\n",
    "print(\"Final convergence parameter = {:.8f} Ha\".format(conv))\n",
    "print(\"Number of iterations = \", n)\n",
    "print(\"Final value of the ground-state energy = {:.8f} Ha\".format(energy))\n",
    "print(\n",
    "    \"Accuracy with respect to the FCI energy: {:.8f} Ha ({:.8f} kcal/mol)\".format(\n",
    "        np.abs(energy - exact_value), np.abs(energy - exact_value) \n",
    "    )\n",
    ")\n",
    "print()\n",
    "print(\"Final circuit parameters = \\n\", params)"
   ]
  },
  {
   "cell_type": "markdown",
   "metadata": {},
   "source": [
    "Next, we run the optimizer employing quantum natural gradients.\n",
    "\n"
   ]
  },
  {
   "cell_type": "code",
   "execution_count": 94,
   "metadata": {},
   "outputs": [
    {
     "name": "stdout",
     "output_type": "stream",
     "text": [
      "Iteration = 0,  Energy = 3.07502059 Ha\n",
      "Iteration = 20,  Energy = -2.04510918 Ha\n",
      "\n",
      "Final convergence parameter = 0.00000000 Ha\n",
      "Number of iterations =  29\n",
      "Final value of the ground-state energy = -2.04510979 Ha\n",
      "Accuracy with respect to the FCI energy: 0.17489021 Ha (109.74413458 kcal/mol)\n",
      "\n",
      "Final circuit parameters = \n",
      " [3.50058187 6.02656594 3.78727399]\n"
     ]
    }
   ],
   "source": [
    "opt = qml.QNGOptimizer(step_size, lam=0.001, diag_approx=False)\n",
    "\n",
    "params = init_params\n",
    "prev_energy = cost(params)\n",
    "qngd_cost = []\n",
    "\n",
    "for n in range(max_iterations):\n",
    "    params, prev_energy = opt.step_and_cost(cost, params)\n",
    "    qngd_cost.append(prev_energy)\n",
    "\n",
    "    energy = cost(params)\n",
    "    conv = np.abs(energy - prev_energy)\n",
    "\n",
    "    if n % 20 == 0:\n",
    "        print(\n",
    "            \"Iteration = {:},  Energy = {:.8f} Ha\".format(n, energy)\n",
    "        )\n",
    "\n",
    "    if conv <= conv_tol:\n",
    "        break\n",
    "\n",
    "\n",
    "print(\"\\nFinal convergence parameter = {:.8f} Ha\".format(conv))\n",
    "print(\"Number of iterations = \", n)\n",
    "print(\"Final value of the ground-state energy = {:.8f} Ha\".format(energy))\n",
    "print(\n",
    "    \"Accuracy with respect to the FCI energy: {:.8f} Ha ({:.8f} kcal/mol)\".format(\n",
    "        np.abs(energy - exact_value), np.abs(energy - exact_value) * 627.503\n",
    "    )\n",
    ")\n",
    "print()\n",
    "print(\"Final circuit parameters = \\n\", params)"
   ]
  },
  {
   "cell_type": "markdown",
   "metadata": {},
   "source": [
    "Visualizing the results\n",
    "^^^^^^^^^^^^^^^^^^^^^^^\n",
    "\n",
    "To evaluate the performance of our two optimizers, we can compare: (a) the\n",
    "number of steps it takes to reach our ground state estimate and (b) the quality of our ground\n",
    "state estimate by comparing the final optimization energy to the exact value.\n",
    "\n"
   ]
  },
  {
   "cell_type": "code",
   "execution_count": 95,
   "metadata": {},
   "outputs": [
    {
     "data": {
      "image/png": "[encoded data removed]",
      "text/plain": [
       "<Figure size 576x396 with 1 Axes>"
      ]
     },
     "metadata": {},
     "output_type": "display_data"
    }
   ],
   "source": [
    "plt.style.use(\"seaborn\")\n",
    "plt.plot(np.array(gd_cost) - exact_value, \"g\", label=\"Gradient descent\")\n",
    "plt.plot(np.array(qngd_cost) - exact_value, \"k\", label=\"Quantum natural gradient descent\")\n",
    "plt.yscale(\"log\")\n",
    "plt.ylabel(\"Energy difference\")\n",
    "plt.xlabel(\"Step\")\n",
    "plt.legend()\n",
    "plt.show()"
   ]
  },
  {
   "cell_type": "markdown",
   "metadata": {},
   "source": [
    "We see that by employing quantum natural gradients, it takes fewer steps\n",
    "to reach a ground state estimate and the optimized energy achieved by\n",
    "the optimizer is lower than that obtained using vanilla gradient descent.\n",
    "\n",
    "\n"
   ]
  },
  {
   "cell_type": "markdown",
   "metadata": {},
   "source": [
    "Robustness in parameter initialization\n",
    "^^^^^^^^^^^^^^^^^^^^^^^^^^^^^^^^^^^^^^\n",
    "\n",
    "While results above show a more rapid convergence for quantum natural gradients,\n",
    "what if we were just lucky, i.e., we started at a \"good\" point in parameter space?\n",
    "How do we know this will be the case with high probability regardless of the\n",
    "parameter initialization?\n",
    "\n",
    "Using the same system Hamiltonian, ansatz, and device, we tested the robustness\n",
    "of the ``QNGOptimizer`` by running 10 independent trials with random parameter initializations.\n",
    "For this numerical test, our optimizer does not terminate based on energy improvement; we fix the number of\n",
    "iterations to 200.\n",
    "We show the result of this test below (after pre-computing), where we plot the mean and standard\n",
    "deviation of the energies over optimization steps for quantum natural gradient and standard gradient descent.\n",
    "\n",
    ".. figure:: ../demonstrations/vqe_qng/k_runs_.png\n",
    "    :align: center\n",
    "    :width: 60%\n",
    "    :target: javascript:void(0)\n",
    "\n",
    "We observe that quantum natural gradient on average converges faster for this system.\n",
    "\n",
    "<div class=\"alert alert-info\"><h4>Note</h4><p>While using QNG may help accelerate the VQE algorithm in terms of optimization steps,\n",
    "    each QNG step is more costly than its vanilla gradient descent counterpart due to\n",
    "    a greater number of calls to the quantum computer that are needed to compute the Fubini-Study metric tensor.</p></div>\n",
    "\n",
    "While further benchmark studies are needed to better understand the advantages\n",
    "of quantum natural gradient, preliminary studies such as this tutorial show the potentials\n",
    "of the method. 🎉\n",
    "\n",
    "\n"
   ]
  },
  {
   "cell_type": "markdown",
   "metadata": {},
   "source": [
    "References\n",
    "--------------\n",
    "\n",
    ".. [#stokes2019]\n",
    "\n",
    "    Stokes, James, *et al.*, \"Quantum Natural Gradient\".\n",
    "    `arXiv preprint arXiv:1909.02108 (2019).\n",
    "    <https://arxiv.org/abs/1909.02108>`__\n",
    "\n",
    ".. [#yamamoto2019]\n",
    "\n",
    "    Yamamoto, Naoki, \"On the natural gradient for variational quantum eigensolver\".\n",
    "    `arXiv preprint arXiv:1909.05074 (2019).\n",
    "    <https://arxiv.org/abs/1909.05074>`__\n",
    "\n",
    ".. [#peruzzo2014]\n",
    "\n",
    "    Alberto Peruzzo, Jarrod McClean *et al.*, \"A variational eigenvalue solver on a photonic\n",
    "    quantum processor\". `Nature Communications 5, 4213 (2014).\n",
    "    <https://www.nature.com/articles/ncomms5213?origin=ppub>`__\n",
    "\n"
   ]
  }
 ],
 "metadata": {
  "kernelspec": {
   "display_name": "Python 3 (ipykernel)",
   "language": "python",
   "name": "python3"
  },
  "language_info": {
   "codemirror_mode": {
    "name": "ipython",
    "version": 3
   },
   "file_extension": ".py",
   "mimetype": "text/x-python",
   "name": "python",
   "nbconvert_exporter": "python",
   "pygments_lexer": "ipython3",
   "version": "3.10.4"
  }
 },
 "nbformat": 4,
 "nbformat_minor": 1
}
