{
 "cells": [
  {
   "cell_type": "markdown",
   "id": "0a6fa0af",
   "metadata": {},
   "source": [
    "# Final challenge: Solving the Gross-Pitaevskii Equation\n",
    "\n",
    "Parts adapted from https://arxiv.org/pdf/2203.05284.pdf with permission from the authors.\n",
    "\n",
    "### Background\n",
    "\n",
    "The [Gross](https://link.springer.com/article/10.1007/BF02731494)-[Pitaevskii](http://jetp.ras.ru/cgi-bin/dn/e_013_02_0451.pdf) (GP) equation (also [here](https://epubs.siam.org/doi/10.1137/20M1313106) for a RBM application) is a nonlinear Schrödinger equation that approximately describes the low-energy properties of dilute Bose-Einstein condensates. Using a self-consistent mean field approximation, the many-body wavefunction is reduced to a description in terms of a single complex-valued wavefunction $\\phi(\\vec{r})$. We work with the [one-dimensional Gross-Pitaevskii equation](https://journals.aps.org/pra/abstract/10.1103/PhysRevA.62.063610) with a harmonic trapping potential by letting $F_\\alpha$ be:\n",
    "\n",
    "\\begin{equation}\n",
    "  F_{q,\\kappa}(\\phi)= -\\phi''+\\kappa x^2\\phi+q|\\phi|^2\\phi-\\lambda_{q,\\kappa}\\phi=0,\n",
    "\\end{equation}\n",
    "where the parameters are now $\\alpha=\\{\\kappa, q\\}$, which are proportional to the strength of the harmonic trapping and the self-coupling of the wavefunction,respectively, while $\\lambda_{q,\\kappa}$ is proportional to the ground state energ. $\\phi(x)$ is a single variable function that depends on $x$ and it is normalized to unity.\n",
    "\n",
    "To be able to solve this problem in a quantum computer with few qbits we follow the same procedure as with the Harmonic Oscillator problem and cast the equations in the reduced basis. We once again expand our solution in a basis of $n$ elements:\n",
    "\\begin{align}\n",
    "\\hat{\\phi}_{\\alpha}(x) = \\sum_{i=1}^{n} a_{i} \\phi_{i}(x) \n",
    "\\end{align}\n",
    "where $\\phi_{i}(x)$ are informed on previous solutions built on a classical computer to the non-linear Schrodinger equation for chosen values of $\\alpha=\\{\\kappa,q\\}$. \n",
    "\n",
    "The main challenge now resides in the fact that we can't write $F_{\\alpha}$ in terms of linear operators since the \"Hamiltonian\" is dependent on the actual solution $\\phi(x)$: $H_\\alpha \\equiv H_\\alpha[\\phi]=(-\\frac{d^2}{dx^2}+\\kappa x^2 +q|\\phi|^2)$. The Galerkin projection equations are general enough that this problem can be [tackled directly](https://arxiv.org/pdf/2203.05284.pdf), which leads to a series of non-linear equations (up to fourth powers) in the unknown coefficients $a_i$ and the approximated eigenvalue $\\hat\\lambda$. \n",
    "\n",
    "In order to tackle this problem in a quantum circuit with the machinery we have developed up to this point we propose an approach that allows one to avoid having to solve a non-linear problem by instead solving a linear one many times in an iteratively scheme. This is the approach frequently used in many Density Functional Theory implementations [CITE]. We make a guess, which we call $\\phi_0$, on the solution of the original non-linear problem. We now iteratively find the solution $\\phi_{n}$ to a linear Schrodinger equation with Hamiltonian $H_\\alpha[\\phi_{n-1}]$. If the original guess $\\phi_0$ was close enough to the true solution, then with enough iterations we should reach self consistency and obtain a wave function such that $F_\\alpha [\\phi]= H_\\alpha[\\phi]\\phi -\\lambda \\phi=0$. \n",
    "\n",
    "In the following we implement this iterative approach to solve the GP equation first in a classical computer, using a basis with two states. We then proceed to design solution for a quantum computer."
   ]
  },
  {
   "cell_type": "code",
   "execution_count": 290,
   "id": "3cac9aec",
   "metadata": {},
   "outputs": [],
   "source": [
    "from pennylane import numpy as np\n",
    "import scipy as sci\n",
    "from scipy import optimize\n",
    "from scipy import special\n",
    "import matplotlib.pyplot as plt\n",
    "import pennylane as qml\n",
    "from qiskit_nature.operators.second_quantization import FermionicOp\n",
    "from qiskit_nature.mappers.second_quantization import JordanWignerMapper, ParityMapper\n",
    "import time\n",
    "from functools import partial\n",
    "import warnings\n",
    "plt.style.use(['science','notebook'])\n",
    "\n",
    "warnings.filterwarnings('ignore')"
   ]
  },
  {
   "cell_type": "code",
   "execution_count": 31,
   "id": "b60a287c",
   "metadata": {},
   "outputs": [],
   "source": [
    "### NOTE: hbar = 1 in this demo\n",
    "\n",
    "def V(x,kappa):\n",
    "    '''\n",
    "    1-d harmonic Oscillator potential\n",
    "\n",
    "    Parameters\n",
    "    ----------\n",
    "    x : float or nd array\n",
    "        position.\n",
    "    alpha : float\n",
    "        oscillator length parameter.\n",
    "\n",
    "    Returns\n",
    "    -------\n",
    "    float or ndarray\n",
    "        value of potential evaluated at x.\n",
    "\n",
    "    '''\n",
    "    return kappa*x**2\n",
    "\n",
    "\n",
    " \n",
    "\n",
    "def construct_H(grid,mass,kappa,q,PHIgrid):\n",
    "   #PHIgrid is the value of the guess for the nonlinear part at each location\n",
    "    dim = len(grid)\n",
    "    off_diag = np.zeros(dim)\n",
    "    off_diag[1] = 1\n",
    "    H = -1*(-2*np.identity(dim) + sci.linalg.toeplitz(off_diag))/(mass*h**2) + np.diag(V(grid,kappa))+ q*np.diag(PHIgrid**2)\n",
    "    \n",
    "    return H\n",
    "\n",
    "\n"
   ]
  },
  {
   "cell_type": "code",
   "execution_count": 32,
   "id": "ad22c320",
   "metadata": {},
   "outputs": [
    {
     "name": "stdout",
     "output_type": "stream",
     "text": [
      "Number of grid points:  201\n"
     ]
    }
   ],
   "source": [
    "#First define global variables\n",
    "h =  1*10**(-1) ### grid spacing for domain (Warning around 10**(-3) it starts to get slow).\n",
    "### HO global parameters \n",
    "n = 0 # principle quantum number to solve in HO\n",
    "mass = 1.0 # mass for the HO system\n",
    "# define the domain boundaries\n",
    "x_a = -10 # left boundary \n",
    "x_b = 10 # right boundary \n",
    "x_array = np.arange(x_a,x_b+h,h)\n",
    "m = len(x_array) \n",
    "print('Number of grid points: ',m)\n",
    "\n",
    "\n",
    "def solve(H,grid,h):\n",
    "    '''\n",
    "    Parameters\n",
    "    ----------\n",
    "    H : 2d ndarray\n",
    "        Hamiltonian Matrix.\n",
    "    grid : ndarray\n",
    "        Discretized 1d domain.\n",
    "    h : float\n",
    "        grid spacing.\n",
    "\n",
    "    Returns\n",
    "    -------\n",
    "    evals : ndarray\n",
    "        returns nd array of eigenvalues of H. \n",
    "    evects : ndarray\n",
    "        returns ndarray of eigenvectors of H.\n",
    "    Eigenvalues and eigenvectors are ordered in ascending order. \n",
    "    '''\n",
    "    evals,evects = np.linalg.eigh(H)\n",
    "    evects = evects.T\n",
    "    for i,evect in enumerate(evects):\n",
    "        #norm = np.sqrt(1/sci.integrate.simpson(evect*evect,grid))\n",
    "        norm = 1/(np.linalg.norm(evect))  #We need to check these normalizations in the other jupyter book!\n",
    "        evects[i] = evects[i]*norm/np.sqrt(h)\n",
    "    return evals,evects\n",
    "\n",
    "\n",
    "def IterativeSolver(grid,q,kappa,maxIterations):\n",
    "    Hn = construct_H(grid,1,kappa,0,np.zeros(len(x_array))) # First Hamiltonian with the q interaction put to zero\n",
    "    PHIn=solve(Hn,grid,h)[1][0]\n",
    "    ListOfPhiOlds=[np.copy(PHIn),np.copy(PHIn),np.copy(PHIn),np.copy(PHIn),np.copy(PHIn),np.copy(PHIn)]\n",
    "    \n",
    "    for IJ in range(maxIterations):\n",
    "        if IJ<maxIterations/2:\n",
    "            qeff=q*(IJ/maxIterations)*2\n",
    "        else:\n",
    "            qeff=q\n",
    "        Hn=construct_H(grid,1,kappa,qeff,(ListOfPhiOlds[-1]+ListOfPhiOlds[-2]+ListOfPhiOlds[-3]+ListOfPhiOlds[-4]+ListOfPhiOlds[-5]+ListOfPhiOlds[-6])/6.0)\n",
    "        SOL=solve(Hn,grid,h)\n",
    "        \n",
    "        PHIn=SOL[1][0]\n",
    "        ListOfPhiOlds.append(np.copy(PHIn))\n",
    "        \n",
    "        \n",
    "            \n",
    "    # print(\"max iterations:\" ,IJ) \n",
    "    # return ListOfPhiOlds\n",
    "    return SOL\n",
    "    \n",
    "    \n",
    "\n",
    "\n",
    "\n",
    "\n",
    "def getSystem(H,psi_array,phi_array):\n",
    "    '''\n",
    "    Sets up syetem of equations for Galerkin projection <\\phi_{j},F_{k}(phi_{k})>\n",
    "\n",
    "    Parameters\n",
    "    ----------\n",
    "    H : ndarray\n",
    "        Hamiltonian matrix.\n",
    "    psi_array : ndarray\n",
    "        array of projector functions. Assumes rows are corresponding to discretized functions\n",
    "    phi_array : TYPE\n",
    "        DESCRIPTION.\n",
    "\n",
    "    Returns\n",
    "    -------\n",
    "    Function\n",
    "        Function that takes in a vector of parameters of the form (a_{1},a_{2},....,\\lambda_{\\alpha}) \n",
    "        and outputs of the system of equations. \\lambda_{\\alpha} is the eigenvalue of HO equation.\n",
    "    '''\n",
    "    ## \n",
    "    def system(a_vec):\n",
    "        '''\n",
    "        Parameters\n",
    "        ----------\n",
    "        a_vec : ndarray\n",
    "            vector of parameters (a_{k},\\lambda).\n",
    "\n",
    "        Returns\n",
    "        -------\n",
    "        results : ndarray\n",
    "            outputs of the Galerkin projection equations and normalization functions <\\hat{\\phi}|\\hat{\\phi}> = 1.\n",
    "            This systems can be solved using sci.optimize.fsolve or using your choice of method.\n",
    "        '''\n",
    "        results = np.zeros(len(a_vec))\n",
    "        results[-1] = -1 # from normalization\n",
    "        for i in np.arange(0,len(a_vec)-1,1):\n",
    "            for k in np.arange(0,len(a_vec)-1,1):\n",
    "                results[i] += a_vec[k]*np.dot(psi_array[i],np.matmul(H,phi_array[k])) - \\\n",
    "                a_vec[-1]*a_vec[k]*np.dot(psi_array[i],phi_array[k])\n",
    "        for k in np.arange(0,len(a_vec)-1,1):\n",
    "            for kp in np.arange(0,len(a_vec)-1,1):\n",
    "                results[-1] += a_vec[kp]*a_vec[k]*np.dot(psi_array[kp],phi_array[k])\n",
    "        return results\n",
    "    return system\n",
    "\n",
    "    \n"
   ]
  },
  {
   "cell_type": "code",
   "execution_count": 33,
   "id": "7fce6930",
   "metadata": {},
   "outputs": [],
   "source": [
    "# #First define global variables\n",
    "# h = 5*10**(-2) ### grid spacing for domain (Warning around 10**(-3) it starts to get slow).\n",
    "# ### HO global parameters \n",
    "# n = 0 # principle quantum number to solve in HO\n",
    "# mass = 1.0 # mass for the HO system\n",
    "# # define the domain boundaries\n",
    "# x_a = -10 # left boundary \n",
    "# x_b = 10 # right boundary \n",
    "# x_array = np.arange(x_a,x_b+h,h)\n",
    "# m = len(x_array) \n",
    "# print('Number of grid points: ',m)\n"
   ]
  },
  {
   "cell_type": "code",
   "execution_count": 34,
   "id": "7806ead3",
   "metadata": {},
   "outputs": [
    {
     "data": {
      "image/png": "[encoded data removed]",
      "text/plain": [
       "<Figure size 432x288 with 1 Axes>"
      ]
     },
     "metadata": {
      "needs_background": "light"
     },
     "output_type": "display_data"
    },
    {
     "name": "stdout",
     "output_type": "stream",
     "text": [
      "4.022841278511318\n"
     ]
    }
   ],
   "source": [
    "solution0=IterativeSolver(x_array,0,1,1)\n",
    "solution=IterativeSolver(x_array,10,1,1000)\n",
    "\n",
    "\n",
    "plt.plot(x_array, solution0[1][0], color=\"blue\",label = 'q=0, kappa=1')\n",
    "plt.plot(x_array, abs(solution[1][0]), color=\"red\",label = 'q=10, kappa=1')\n",
    "plt.legend()\n",
    "plt.show()\n",
    "print(solution[0][0])"
   ]
  },
  {
   "cell_type": "markdown",
   "id": "70bb0fe1",
   "metadata": {},
   "source": [
    "First select a set of values of $\\alpha$ to solve the SE with. These solutions will be used as the basis in the reduced basis model."
   ]
  },
  {
   "cell_type": "code",
   "execution_count": 35,
   "id": "dccef495",
   "metadata": {},
   "outputs": [],
   "source": [
    "# Select alpha values to use to solve SE exactly.\n",
    "alpha_vals = [[0,1],[1,1],[0,2],[5,1],[10,1]]  #[q,kappa] Here, we choose 5 values of alpha to solve exactly. This results in 3 basis functions\n",
    "# initialize solution arrays. T is the matrix that will hold wavefunction solutions. \n",
    "# T has the form T[i][j], i = alpha, j = solution components\n",
    "T = np.zeros((len(alpha_vals),m)) \n",
    "# T_evals holds the eigenvalues for each evect in T. \n",
    "T_evals = np.zeros(len(alpha_vals))"
   ]
  },
  {
   "cell_type": "code",
   "execution_count": 36,
   "id": "02325460",
   "metadata": {},
   "outputs": [
    {
     "name": "stdout",
     "output_type": "stream",
     "text": [
      "alpha = [0, 1], lambda = 0.9993746086404902\n",
      "alpha = [1, 1], lambda = 1.3830689347075433\n",
      "alpha = [0, 2], lambda = 1.4129624545775548\n",
      "alpha = [5, 1], lambda = 2.689659524551058\n",
      "alpha = [10, 1], lambda = 4.022841278511264\n"
     ]
    },
    {
     "data": {
      "image/png": "[encoded data removed]",
      "text/plain": [
       "<Figure size 360x216 with 1 Axes>"
      ]
     },
     "metadata": {
      "needs_background": "light"
     },
     "output_type": "display_data"
    }
   ],
   "source": [
    "for i,alpha_sample in enumerate(alpha_vals):\n",
    "    \n",
    "    evals, evects = IterativeSolver(x_array,alpha_sample[0],alpha_sample[1],700) # solve the system for evals and evects.\n",
    "    T[i] = evects[n]/np.linalg.norm(evects[n]) # assign the nth evect to solution array T\n",
    "    T_evals[i] = evals[n] # assign the nth eigenvalue to the eigenvalue array T_eval.\n",
    "    print(f'alpha = {alpha_sample}, lambda = {evals[n]}')\n",
    "    \n",
    "\n",
    "    \n",
    "\n",
    "# Make plots of the numerical wavefunction \n",
    "fig, ax = plt.subplots(1,1,figsize=(5,3))\n",
    "for i in range(len(alpha_vals)):\n",
    "    \n",
    "    ax.plot(x_array,(T[i]),label=r'$\\alpha$ = '+str(alpha_vals[i]))\n",
    "\n",
    "ax.set_title('Numerical solutions')\n",
    "\n",
    "ax.legend()\n",
    "\n",
    "plt.show()\n",
    "\n"
   ]
  },
  {
   "cell_type": "markdown",
   "id": "01756f6a",
   "metadata": {},
   "source": [
    "### Creating an orthonormal basis of two elements and checking that our problem is well behaved (fast decay in singular values)"
   ]
  },
  {
   "cell_type": "code",
   "execution_count": 37,
   "id": "81365315",
   "metadata": {},
   "outputs": [
    {
     "data": {
      "image/png": "[encoded data removed]",
      "text/plain": [
       "<Figure size 864x288 with 2 Axes>"
      ]
     },
     "metadata": {
      "needs_background": "light"
     },
     "output_type": "display_data"
    }
   ],
   "source": [
    "U, s, Vh = np.linalg.svd(T)\n",
    "phi1=-1*Vh[0] #multiplying by -1 so they are positive at x=0, not necessary but the plots look better\n",
    "phi2=1*Vh[1]\n",
    "n_comps = 2 # number of principle components to plot (i.e number of column vectors of SVD matrix V to plot)\n",
    "fig, ax = plt.subplots(1,2,figsize=(12,4))\n",
    "ax[0].semilogy(s/s[0],'o-')\n",
    "ax[0].set_title(r'Singular values of solution matrix $T$')\n",
    "ax[0].set_ylabel(r'$\\sigma$')\n",
    "\n",
    "ax[1].plot(x_array,phi1,label=str(1))\n",
    "ax[1].plot(x_array,phi2,label=str(2))\n",
    "ax[1].set_title(f'First {n_comps} principle components')\n",
    "ax[1].legend()\n",
    "plt.show()\n"
   ]
  },
  {
   "cell_type": "markdown",
   "id": "0ded3e36",
   "metadata": {},
   "source": [
    "### We will now model an effective hamiltonian in which two \"particles\" interact, each one represents one of these two components."
   ]
  },
  {
   "cell_type": "markdown",
   "id": "8da842be",
   "metadata": {},
   "source": [
    "This discussion retraces everything we did before for the Harmonic Oscillator. The main difference is that now the Hamiltonian effectively depends on the solution $H_\\alpha \\equiv H_\\alpha[\\phi]$, but since we are aiming at solving the problem iteratively, at each stage we have a fixed linear Hamiltonian.\n",
    "\n",
    "Here we explicitly construct $ \\hat{\\phi}_{\\alpha}= a_{1} \\phi_{1}+a_2\\phi_2$ and use the Galerkin method, that is, projecting $F_{\\alpha}\\big( \\hat{\\phi}_{\\alpha}(x) \\big)$ over $2$ linearly independent functions projecting functions $\\{ \\psi_{i}\\}_{i=1}^{2}$. \n",
    "\n",
    "\\begin{align}\n",
    "&\\langle \\psi{1}| F_{\\alpha}\\big( \\hat{\\phi}_{\\alpha}(x) \\big) \\rangle = 0 \\\\\n",
    "&\\langle \\psi{2}| F_{\\alpha}\\big( \\hat{\\phi}_{\\alpha}(x) \\big) \\rangle = 0 \n",
    "\\end{align}\n",
    "\n",
    "We can interpret this as enforcing the orthogonality of $F_{\\alpha}\\big( \\hat{\\phi}_{\\alpha}(x) \\big)$ to the subspace spanned by $\\{\\psi_{i}\\}$ that is, by finding $\\hat{\\phi}_{\\alpha}$ such that $F_{\\alpha}(\\hat{\\phi}_{\\alpha})$ is approximately zero up to the ability of the set $\\{\\psi_{i}\\}$. The choice of projecting functions $\\{ \\psi_{i} \\}$ is arbitrary, but here we choose the solution set $\\{ \\phi_{i} \\}$ to be our projecting functions to make our lives easier. Since $\\lambda$ is also unknown, we need an additional equation. This comes from the normalization conditions:\n",
    "\n",
    "\\begin{align}\n",
    "\\langle \\hat{\\phi}_{\\alpha_{k}}|\\hat{\\phi}_{\\alpha_{k}} \\rangle  = 1\n",
    "\\end{align}\n",
    "\n",
    "We can re-write the projecting equations taking advantage of the linear form of $F_\\alpha$ to obtain an effective 2-level system Hamiltonian. We note that:\n",
    "\n",
    "\\begin{align}\n",
    "&\\langle \\phi_{i}| F_{\\alpha}\\big( \\hat{\\phi}_{\\alpha}(x) \\big) \\rangle =  \\\\\n",
    "&\\langle \\phi_{i}|  a_1 H_\\alpha \\phi_1 + a_2 H_\\alpha \\phi_2 - a_1\\hat \\lambda \\phi_1 - a_2\\hat \\lambda \\phi_2\\rangle\n",
    "\\end{align}\n",
    "\n",
    "Since $\\langle \\phi_i|\\phi_j\\rangle = \\delta _{i,j}$, we arrive at the following matrix equation for the projecting equations:\n",
    "\n",
    "\\begin{equation}\n",
    "\\tilde H_\\alpha |a\\rangle = \\hat\\lambda |a\\rangle\n",
    "\\end{equation}\n",
    "\n",
    "where $|a\\rangle = \\{a_1,a_2\\}$ and \n",
    "\n",
    "\\begin{equation}\n",
    "\\tilde H_\\alpha = \\begin{bmatrix} \\langle \\phi_1|H_\\alpha|\\phi_1\\rangle & \\langle \\phi_1|H_\\alpha|\\phi_2\\rangle \\\\ \\langle \\phi_2|H_\\alpha|\\phi_1\\rangle & \\langle \\phi_2|H_\\alpha|\\phi_2\\rangle \\end{bmatrix}\n",
    "\\end{equation}\n",
    "\n",
    "while the normalization condition translates into:\n",
    "\n",
    "\\begin{equation}\n",
    "\\langle a|a \\rangle  = a_1^2+a_2^2= 1\n",
    "\\end{equation}\n",
    "\n",
    "\n",
    "Now we proceed to construct this Hamiltonian matrix for our problem at hand. We note that although $\\tilde H_\\alpha$ depennds on $\\alpha$, the dependance is only in the tow potential parts and it is affine (linear): $H_\\alpha=H_0+\\kappa H_1 +q H_2$, where $H_0= - \\frac{d^{2}}{dx^{2}}$, $H_1= x^2$, and $H_2=|\\phi(x)|^2$. We then decompose $\\tilde H_\\alpha= \\tilde H_0 + \\kappa \\tilde H_1+ q \\tilde H_2$. We now construct these matrices, $H_2$ being a function that must be constructed every time:"
   ]
  },
  {
   "cell_type": "code",
   "execution_count": 38,
   "id": "d0d0c6cf",
   "metadata": {},
   "outputs": [
    {
     "name": "stdout",
     "output_type": "stream",
     "text": [
      "H0= [[ 0.42023097 -0.58365092]\n",
      " [-0.58365092  2.61560759]]\n",
      "H1= [[0.59436083 0.82835933]\n",
      " [0.82835933 2.3627665 ]]\n",
      "H2= [[ 0.36584365 -0.13715205]\n",
      " [-0.13715205  0.16958109]]\n"
     ]
    }
   ],
   "source": [
    "dim0 = len(x_array)\n",
    "off_diag = np.zeros(dim0)\n",
    "off_diag[1] = 1\n",
    "\n",
    "H0=-1*(-2*np.identity(dim0) + sci.linalg.toeplitz(off_diag))/(mass*h**2) \n",
    "H1=np.diag(V(x_array,1))\n",
    "\n",
    "tildeH0=np.array([[0.0,0.0],[0.0,0.0]])\n",
    "tildeH1=np.array([[0.0,0.0],[0.0,0.0]])\n",
    "\n",
    "tildeH0[0][0]=np.dot(phi1,np.dot(H0,phi1))\n",
    "tildeH0[0][1]=np.dot(phi1,np.dot(H0,phi2))\n",
    "tildeH0[1][0]=np.dot(phi2,np.dot(H0,phi1))\n",
    "tildeH0[1][1]=np.dot(phi2,np.dot(H0,phi2))\n",
    "\n",
    "tildeH1[0][0]=np.dot(phi1,np.dot(H1,phi1))\n",
    "tildeH1[0][1]=np.dot(phi1,np.dot(H1,phi2))\n",
    "tildeH1[1][0]=np.dot(phi2,np.dot(H1,phi1))\n",
    "tildeH1[1][1]=np.dot(phi2,np.dot(H1,phi2))\n",
    "\n",
    "H2_11=np.diag(phi1**2)\n",
    "H2_12=np.diag(phi1*phi2)\n",
    "H2_22=np.diag(phi2**2)\n",
    "\n",
    "tildeH2_11=np.array([[0.0,0.0],[0.0,0.0]])\n",
    "tildeH2_11[0][0]=np.dot(phi1,np.dot(H2_11,phi1))\n",
    "tildeH2_11[0][1]=np.dot(phi1,np.dot(H2_11,phi2))\n",
    "tildeH2_11[1][0]=np.dot(phi2,np.dot(H2_11,phi1))\n",
    "tildeH2_11[1][1]=np.dot(phi2,np.dot(H2_11,phi2))\n",
    "\n",
    "\n",
    "\n",
    "\n",
    "tildeH2_12=np.array([[0.0,0.0],[0.0,0.0]])\n",
    "tildeH2_12[0][0]=np.dot(phi1,np.dot(H2_12,phi1))\n",
    "tildeH2_12[0][1]=np.dot(phi1,np.dot(H2_12,phi2))\n",
    "tildeH2_12[1][0]=np.dot(phi2,np.dot(H2_12,phi1))\n",
    "tildeH2_12[1][1]=np.dot(phi2,np.dot(H2_12,phi2))\n",
    "\n",
    "\n",
    "tildeH2_22=np.array([[0.0,0.0],[0.0,0.0]])\n",
    "tildeH2_22[0][0]=np.dot(phi1,np.dot(H2_22,phi1))\n",
    "tildeH2_22[0][1]=np.dot(phi1,np.dot(H2_22,phi2))\n",
    "tildeH2_22[1][0]=np.dot(phi2,np.dot(H2_22,phi1))\n",
    "tildeH2_22[1][1]=np.dot(phi2,np.dot(H2_22,phi2))\n",
    "\n",
    "def tildeH2(coeffs):\n",
    "    # H2=np.diag(PHIList**2)\n",
    "    \n",
    "    \n",
    "    # tildeH2=np.array([[0.0,0.0],[0.0,0.0]])\n",
    "\n",
    "    # tildeH2[0][0]=np.dot(phi1,np.dot(H2,phi1))\n",
    "    # tildeH2[0][1]=np.dot(phi1,np.dot(H2,phi2))\n",
    "    # tildeH2[1][0]=np.dot(phi2,np.dot(H2,phi1))\n",
    "    # tildeH2[1][1]=np.dot(phi2,np.dot(H2,phi2))\n",
    "    # return tildeH2\n",
    "\n",
    "\n",
    "    return (coeffs[0]**2*tildeH2_11+2*coeffs[0]*coeffs[1]*tildeH2_12+coeffs[1]**2*tildeH2_22)/h\n",
    "    \n",
    "\n",
    "\n",
    "\n",
    "print('H0=', tildeH0)\n",
    "print('H1=',tildeH1)\n",
    "\n",
    "print('H2=',tildeH2([1,0]))\n"
   ]
  },
  {
   "cell_type": "code",
   "execution_count": 39,
   "id": "c93d4a91",
   "metadata": {},
   "outputs": [],
   "source": [
    "def tildeH(alpha,coeffs):\n",
    "    return tildeH0+alpha[1]*tildeH1+alpha[0]*tildeH2(coeffs)\n",
    "\n",
    "def systemSolver(alpha,coeffs):\n",
    "    resultssystem= np.linalg.eig(tildeH(alpha,coeffs))\n",
    "    # if resultssystem[1][0][0]<0:\n",
    "    #     resultssystem[1][0]=resultssystem[1][0]*(-1)\n",
    "    # if resultssystem[1][1][0]<0:\n",
    "    #     resultssystem[1][1]=resultssystem[1][1]*(-1)   \n",
    "    return [resultssystem[0],np.transpose(resultssystem[1])]\n",
    "\n",
    "def phibuilderFromCoeffs(coefficients):\n",
    "    coefficients0=[coefficients[0]/(np.linalg.norm(coefficients))/np.sqrt(h),coefficients[1]/(np.linalg.norm(coefficients))/np.sqrt(h)]\n",
    "    return coefficients0[0]*phi1+coefficients0[1]*phi2\n",
    "\n",
    "def ItetariveRBMsolver(alpha,maxIterations):\n",
    "    sol0=systemSolver([0,alpha[1]],[1,0])\n",
    "    # sol0=systemSolver([alpha[0],alpha[1]],[0.9913,0.131144])\n",
    "    \n",
    "    ListOfPhiOlds=[np.copy(sol0[1][0]),np.copy(sol0[1][0]),np.copy(sol0[1][0]),np.copy(sol0[1][0]),np.copy(sol0[1][0]),np.copy(sol0[1][0])]\n",
    "    for IJ in range(maxIterations):\n",
    "        if IJ<maxIterations/2:\n",
    "        # if IJ<0:\n",
    "            qeff=alpha[0]*(IJ/maxIterations)*2\n",
    "        else:\n",
    "            qeff=alpha[0]\n",
    "        \n",
    "        sol0=systemSolver([qeff,alpha[1]],  \n",
    "        (ListOfPhiOlds[-1]+ListOfPhiOlds[-2]+ListOfPhiOlds[-3]+ListOfPhiOlds[-4]+ListOfPhiOlds[-5]+ListOfPhiOlds[-6])/6.0\n",
    "        )\n",
    "\n",
    "\n",
    "        ListOfPhiOlds.append(np.copy(sol0[1][0]))\n",
    "    return sol0\n",
    "\n",
    "\n"
   ]
  },
  {
   "cell_type": "markdown",
   "id": "0b980930",
   "metadata": {},
   "source": [
    "Now we try our solution solver against the finite element computation:"
   ]
  },
  {
   "cell_type": "code",
   "execution_count": 40,
   "id": "a6495d62",
   "metadata": {},
   "outputs": [
    {
     "data": {
      "image/png": "[encoded data removed]",
      "text/plain": [
       "<Figure size 360x216 with 1 Axes>"
      ]
     },
     "metadata": {
      "needs_background": "light"
     },
     "output_type": "display_data"
    }
   ],
   "source": [
    "# Now we can construct our RBM for an alpha of our choosing. \n",
    "alpha_k = [7,1]\n",
    "solFinite=IterativeSolver(x_array,alpha_k[0],alpha_k[1],1000)[1][0]\n",
    "\n",
    "solFull=ItetariveRBMsolver(alpha_k,1000)\n",
    "solGaler=phibuilderFromCoeffs(solFull[1][0])\n",
    "lamGaler=solFull[0][0]\n",
    "\n",
    "\n",
    "    \n",
    "\n",
    "# Make plots of the numerical wavefunction \n",
    "fig, ax = plt.subplots(1,1,figsize=(5,3))\n",
    "\n",
    "\n",
    "ax.plot(x_array,solFinite,label=r'Finite element method $\\alpha$ = '+str(alpha_k))\n",
    "ax.plot(x_array,-solGaler,label= r'Galerkin $\\alpha$ = '+str(alpha_k))\n",
    "\n",
    "ax.set_title('Numerical solutions')\n",
    "\n",
    "ax.legend()\n",
    "\n",
    "plt.show()\n",
    "\n"
   ]
  },
  {
   "cell_type": "markdown",
   "id": "8127c5e5",
   "metadata": {},
   "source": [
    "Now that we've laid the groundwork for getting RBM solutions for this nonlinear problem, we can explore how to get it running in the quantum paradigm. The next cell will contain a lot of setup without much explanation, so it's recommended that you check back in the VQE, noise, and RBM sections for individual explanations."
   ]
  },
  {
   "cell_type": "code",
   "execution_count": 41,
   "id": "a5349708",
   "metadata": {},
   "outputs": [],
   "source": [
    "\n",
    "\n",
    "def pauli_token_to_operator(token):\n",
    "    qubit_terms = []\n",
    "\n",
    "    for term in range(len(token)):\n",
    "        # Special case of identity\n",
    "        if token[term] == \"I\":\n",
    "            pass\n",
    "        else:\n",
    "            #pauli, qubit_idx = term, term\n",
    "            if token[term] == \"X\":\n",
    "                qubit_terms.append(qml.PauliX(int(term)))\n",
    "            elif token[term] == \"Y\":\n",
    "                qubit_terms.append(qml.PauliY(int(term)))\n",
    "            elif token[term] == \"Z\":\n",
    "                qubit_terms.append(qml.PauliZ(int(term)))\n",
    "            else:\n",
    "                print(\"Invalid input.\")\n",
    "    if(qubit_terms==[]):\n",
    "            qubit_terms.append(qml.Identity(0))\n",
    "    full_term = qubit_terms[0]\n",
    "    for term in qubit_terms[1:]:\n",
    "        full_term = full_term @ term\n",
    "\n",
    "    return full_term\n",
    "\n",
    "\n",
    "def parse_hamiltonian_input(input_data):\n",
    "    # Get the input\n",
    "    coeffs = []\n",
    "    pauli_terms = []\n",
    "    chunks = input_data.split(\"\\n\")\n",
    "    # Go through line by line and build up the Hamiltonian\n",
    "    for line in chunks:\n",
    "        #line = line.strip()\n",
    "        tokens = line.split(\" \")\n",
    "        # Parse coefficients\n",
    "        sign, value = tokens[0][0], tokens[1]\n",
    "\n",
    "        coeff = float(value)\n",
    "        if sign == \"-\":\n",
    "            coeff *= -1\n",
    "        coeffs.append(coeff)\n",
    "\n",
    "        # Parse Pauli component\n",
    "        pauli = tokens[3]\n",
    "        \n",
    "        pauli_terms.append(pauli_token_to_operator(pauli))\n",
    "\n",
    "    return qml.Hamiltonian(coeffs, pauli_terms)\n",
    "\n",
    "def ham(N,mat_ele,mapper=JordanWignerMapper):\n",
    "    # Start out by zeroing what will be our fermionic operator\n",
    "    op = 0\n",
    "    for i in range(N):\n",
    "        for j in range(N):\n",
    "            # Construct the terms of the Hamiltonian in terms of creation/annihilation operators \n",
    "            op +=  float(mat_ele[i][j]) * \\\n",
    "            FermionicOp([([(\"+\", i),(\"-\", j)], 1.0)])\n",
    "\n",
    "    hamstr = \"+ \"+str(mapper().map(second_q_op=op))\n",
    "\n",
    "    hamiltonian = parse_hamiltonian_input(hamstr)\n",
    "\n",
    "    return hamiltonian "
   ]
  },
  {
   "cell_type": "markdown",
   "id": "84dd6db3",
   "metadata": {},
   "source": [
    "We'll define functions to help with running VQE since we will likely need to do it a few times.\n",
    "\n",
    "`update_ham` will return an updated hamiltonian given basis coefficients and the alpha vector\n",
    "\n",
    "`run_vqe_fixed` will run the VQE algorithm for a fixed hamiltonian defined by input coefficients\n",
    "\n",
    "`run_vqe` performs VQE with a dynamically updating Hamiltonian during the gradient descent. This algorithm decreases the total number of iterations required for convergence at the cost of additional measurements per step -- but it tends towards being much more efficient."
   ]
  },
  {
   "cell_type": "code",
   "execution_count": 265,
   "id": "4c73508f",
   "metadata": {},
   "outputs": [],
   "source": [
    "def update_ham(alpha,coeffs):\n",
    "    # Define dimension\n",
    "    dim = len(coeffs)\n",
    "\n",
    "    # Define Hamiltonian\n",
    "    mat_ele = tildeH(alpha,coeffs)\n",
    "\n",
    "    H = ham(dim, mat_ele)\n",
    "    return H\n",
    "\n",
    "def run_vqe_fixed(alpha, coeffs, init_params, dev, max_iter=500, conv_tol=1e-6, step_size=0.1, debug=False):\n",
    "\n",
    "    H = update_ham(alpha,coeffs)\n",
    "\n",
    "    cost_fn = qml.ExpvalCost(ansatz, H, dev)\n",
    "    \n",
    "    opt = qml.GradientDescentOptimizer(stepsize=step_size)\n",
    "\n",
    "    params = init_params\n",
    "\n",
    "    gd_param_history = [params]\n",
    "    gd_cost_history = []\n",
    "\n",
    "    start = time.time()\n",
    "\n",
    "    for n in range(max_iter):\n",
    "        # Take a step in parameter space and record your energy\n",
    "        params, prev_energy = opt.step_and_cost(cost_fn, params)\n",
    "\n",
    "        # This keeps track of our energy for plotting at comparisons\n",
    "        gd_param_history.append(params)\n",
    "        gd_cost_history.append(prev_energy)\n",
    "\n",
    "        # Here we see what the energy of our system is with the new parameters\n",
    "        energy = cost_fn(params)\n",
    "\n",
    "        # Calculate difference between new and old energies\n",
    "        conv = np.abs(energy - prev_energy)\n",
    "\n",
    "        end = time.time()\n",
    "\n",
    "        if (n % 1 == 0) and debug:\n",
    "            print(\n",
    "                \"It = {:},  Energy = {:.8f},  Conv = {\"\n",
    "                \":.8f}, Time Elapsed = {:.3f} s\".format(n, energy, conv,end-start)\n",
    "            )\n",
    "            start = time.time()\n",
    "\n",
    "\n",
    "        if conv <= conv_tol:\n",
    "            break\n",
    "\n",
    "    if(debug): print(\"Final value of the energy = {:.8f}\".format(energy))\n",
    "    if(debug): print(\"Number of iterations = \", n)\n",
    "\n",
    "    return params, energy, n\n",
    "\n",
    "def run_vqe(alpha, coeffs, init_params, dev, mixing=0.5, max_iter=500, \\\n",
    "    noisy=False, conv_tol=1e-6, step_size=0.1, debug=False):\n",
    "    if(noisy):\n",
    "        prob_circ = noisy_prob_circuit\n",
    "    else:\n",
    "        prob_circ = prob_circuit\n",
    "\n",
    "    H = update_ham(alpha,coeffs)\n",
    "\n",
    "    cost_fn = qml.ExpvalCost(ansatz, H, dev)\n",
    "    \n",
    "    opt = qml.GradientDescentOptimizer(stepsize=step_size)\n",
    "\n",
    "    params = init_params\n",
    "\n",
    "    probs = prob_circ(params)\n",
    "    new_coeffs = np.sqrt(probs[1:3])\n",
    "\n",
    "    gd_param_history = [params]\n",
    "    gd_cost_history = []\n",
    "\n",
    "    start = time.time()\n",
    "    energy = 10.0\n",
    "    for n in range(max_iter):\n",
    "        # Take a step in parameter space and record your energy\n",
    "        params, prev_energy = opt.step_and_cost(cost_fn, params)\n",
    "        prev_energy = energy\n",
    "        # This keeps track of our energy for plotting at comparisons\n",
    "        gd_param_history.append(params)\n",
    "        gd_cost_history.append(prev_energy)\n",
    "\n",
    "        # Here we see what the energy of our system is with the new parameters\n",
    "        energy = cost_fn(params)\n",
    "\n",
    "        # Calculate difference between new and old energies\n",
    "        conv = np.abs(energy - prev_energy)\n",
    "\n",
    "        # Update hamiltonian with new coeffs\n",
    "        probs = prob_circ(params)\n",
    "        new_coeffs = np.sqrt(probs[1:3])\n",
    "        coeffs = (1.0-mixing)*coeffs + mixing*new_coeffs\n",
    "\n",
    "        H = update_ham(alpha,coeffs)\n",
    "\n",
    "        cost_fn = qml.ExpvalCost(ansatz, H, dev)\n",
    "\n",
    "        end = time.time()\n",
    "\n",
    "        if (n % 1 == 0) and debug:\n",
    "            print(\n",
    "                \"It = {:},  Energy = {:.8f},  Conv = {\"\n",
    "                \":.8f}, Time Elapsed = {:.3f} s\".format(n, energy, conv,end-start)\n",
    "            )\n",
    "            start = time.time()\n",
    "\n",
    "\n",
    "        if conv <= conv_tol:\n",
    "            break\n",
    "\n",
    "    if(debug): print(\"Final value of the energy = {:.8f}\".format(energy))\n",
    "    if(debug): print(\"Number of iterations = \", n)\n",
    "\n",
    "    return params, energy, n, gd_cost_history\n",
    "\n"
   ]
  },
  {
   "cell_type": "markdown",
   "id": "956b1367",
   "metadata": {},
   "source": [
    "Up next is setting up our circuits! This is exactly from the [Quantum Computing RBM](horbm/quantum.ipynb) example since we're not concerning ourselves with noise just yet."
   ]
  },
  {
   "cell_type": "code",
   "execution_count": 61,
   "id": "3d496e45",
   "metadata": {},
   "outputs": [],
   "source": [
    "# Set the order you'd like to go to\n",
    "\n",
    "dim = 2\n",
    "\n",
    "# Setup the device. Here we'll use the default qubit just to get it working\n",
    "dev = qml.device(\"default.qubit\", wires=dim)\n",
    "\n",
    "# Define a general ansatz for arbitrary numbers of dimensions\n",
    "\n",
    "particles = 1\n",
    "\n",
    "ref_state = qml.qchem.hf_state(particles, dim)\n",
    "\n",
    "ansatz = partial(qml.ParticleConservingU2, init_state=ref_state)\n",
    "\n",
    "layers = dim\n",
    "\n",
    "# generate the prob function\n",
    "@qml.qnode(dev)\n",
    "def prob_circuit(params):\n",
    "    ansatz(params, wires=dev.wires)\n",
    "    return qml.probs(wires=dev.wires)"
   ]
  },
  {
   "cell_type": "markdown",
   "id": "d6722301",
   "metadata": {},
   "source": [
    "Now let's see what happens when running VQE for only the first element in the basis."
   ]
  },
  {
   "cell_type": "code",
   "execution_count": 126,
   "id": "758ce4cb",
   "metadata": {},
   "outputs": [
    {
     "name": "stdout",
     "output_type": "stream",
     "text": [
      "Result expected from classical computation:  3.3910483648941208\n",
      "Final value of the energy = 3.39105632\n"
     ]
    }
   ],
   "source": [
    "init_params = np.random.uniform(low=-np.pi / 2, high=np.pi / 2, size=qml.ParticleConservingU2.shape(n_layers=layers, n_wires=dim))\n",
    "\n",
    "update_ham(alpha_k,[1,0])\n",
    "\n",
    "classical=np.linalg.eig(tildeH(alpha_k,[1,0]))\n",
    "print(\"Result expected from classical computation: \", classical[0][0])\n",
    "params, energy = run_vqe(alpha_k,[1,0],init_params,dev)\n"
   ]
  },
  {
   "cell_type": "markdown",
   "id": "15f9f9c1",
   "metadata": {},
   "source": [
    "Awesome! With our basis coefficients set to `[1,0]`, we get the same result as we expect from before. Now comes the fun part of iteratively solving the problem! There are two approaches we could take:\n",
    "\n",
    "- \"Standard\" Iterative VQE | This method is the simplest conceptually and closely tracks the methods used to iteratively solve the problem on classical systems - namely you use the VQE to solve the optimal parameters for a fixed initial Hamiltonian, then you compute the coefficients of the basis and do it again. Between VQE runs you can mix the coefficients to ensure convergence, but ultimately you will obtain the optimal parameters and coefficients for the problem.\n",
    "\n",
    "- \"Dynamic\" VQE | This method performs a measurement to determine the coefficients every step within the VQE algorithm and dynamically updates the Hamiltonian. This leads to faster convergence for this nonlinear problem and fewer steps overall.\n",
    "\n",
    "We have implemented both methods in the notebook, and show both in the following cells. Feel free to play around with the parameters that tune the VQE algorithm and see what the effects are!"
   ]
  },
  {
   "cell_type": "code",
   "execution_count": 180,
   "id": "6e1e7bf9",
   "metadata": {},
   "outputs": [
    {
     "name": "stdout",
     "output_type": "stream",
     "text": [
      "Convergence tolerance met!\n",
      "Result expected from classical computation:  3.2502202855515776\n",
      "Coefficients expected from classical computation:  0.9913354984896009 0.131354213614845\n",
      "Result from standard VQE:  3.2502193236644996\n",
      "Coefficients from standard VQE:  0.9913354774404971 0.13135437247317416\n",
      "Total Iterations Required:  60\n"
     ]
    }
   ],
   "source": [
    "debug=False\n",
    "classical=ItetariveRBMsolver(alpha_k,1000)\n",
    "\n",
    "sol_params, energy, n = run_vqe_fixed(alpha_k,[1,0],init_params,dev)\n",
    "probs = prob_circuit(sol_params)\n",
    "new_coeffs = np.sqrt(probs[1:3])\n",
    "coeffs = new_coeffs\n",
    "if(debug): print(\"Coefficients: \",coeffs)\n",
    "\n",
    "mixing = 0.5\n",
    "\n",
    "total_it = n\n",
    "prev_energy = 10.0\n",
    "for i in range(200):\n",
    "    coeffs = (1.0-mixing)*coeffs + mixing*new_coeffs\n",
    "    sol_params, energy, n = run_vqe_fixed(alpha_k,coeffs,sol_params,dev)\n",
    "    total_it += n\n",
    "    if(abs(energy-prev_energy) < 1e-6):\n",
    "        print(\"Convergence tolerance met!\")\n",
    "        break\n",
    "    prev_energy = energy\n",
    "    probs = prob_circuit(sol_params)\n",
    "    new_coeffs = np.sqrt(probs[1:3])\n",
    "    if(debug): print(\"Coefficients: \",coeffs)\n",
    "\n",
    "print(\"Result expected from classical computation: \", classical[0][0])\n",
    "print(\"Coefficients expected from classical computation: \",-classical[1][0][0],-classical[1][0][1])\n",
    "print(\"Result from standard VQE: \",energy)\n",
    "print(\"Coefficients from standard VQE: \",new_coeffs[0],new_coeffs[1])\n",
    "print(\"Total Iterations Required: \", total_it)\n"
   ]
  },
  {
   "cell_type": "code",
   "execution_count": 267,
   "id": "80d2dff6",
   "metadata": {},
   "outputs": [
    {
     "name": "stdout",
     "output_type": "stream",
     "text": [
      "Result expected from classical computation:  3.2502202855515776\n",
      "Coefficients expected from classical computation:  0.9913354984896009 0.131354213614845\n",
      "Result from dynamic VQE:  3.2502207938475203\n",
      "Coefficients from dynamic VQE:  0.9913354781979928 0.13135436675633222\n",
      "Total Iterations Required:  22\n"
     ]
    }
   ],
   "source": [
    "sol_params, energy, n, _ = run_vqe(alpha_k,np.array([1,0]),init_params,dev)\n",
    "\n",
    "probs = prob_circuit(sol_params)\n",
    "coeffs = np.sqrt(probs[1:3])\n",
    "print(\"Result expected from classical computation: \", classical[0][0])\n",
    "print(\"Coefficients expected from classical computation: \",-classical[1][0][0],-classical[1][0][1])\n",
    "print(\"Result from dynamic VQE: \",energy)\n",
    "print(\"Coefficients from dynamic VQE: \",coeffs[0],coeffs[1])\n",
    "print(\"Total Iterations Required: \", n)"
   ]
  },
  {
   "cell_type": "code",
   "execution_count": 268,
   "id": "46e5bc29",
   "metadata": {},
   "outputs": [
    {
     "data": {
      "image/png": "[encoded data removed]",
      "text/plain": [
       "<Figure size 360x216 with 1 Axes>"
      ]
     },
     "metadata": {
      "needs_background": "light"
     },
     "output_type": "display_data"
    }
   ],
   "source": [
    "\n",
    "solGaler=phibuilderFromCoeffs(coeffs)\n",
    "lamGaler=solFull[0][0]\n",
    "\n",
    "# Make plots of the numerical wavefunction \n",
    "fig, ax = plt.subplots(1,1,figsize=(5,3))\n",
    "\n",
    "ax.plot(x_array,solFinite,label=r'Finite element method $\\alpha$ = '+str(alpha_k))\n",
    "ax.plot(x_array,solGaler,label= r'Quantum Computing Galerkin $\\alpha$ = '+str(alpha_k))\n",
    "\n",
    "ax.set_title('Numerical solutions')\n",
    "\n",
    "ax.legend()\n",
    "\n",
    "plt.show()"
   ]
  },
  {
   "cell_type": "markdown",
   "id": "39821c09",
   "metadata": {},
   "source": [
    "They both perform really well, but the dynamic VQE requires less messy code to get it running, so that's what we'll use next! What we'll do now is add some noise to our circuit and see how that affects our performance."
   ]
  },
  {
   "cell_type": "code",
   "execution_count": 271,
   "id": "6b4b4394",
   "metadata": {},
   "outputs": [
    {
     "name": "stdout",
     "output_type": "stream",
     "text": [
      "Result expected from classical computation:  3.2502202855515776\n",
      "Coefficients expected from classical computation:  0.9913354984896009 0.131354213614845\n",
      "Result from dynamic VQE:  3.058681718969153\n",
      "Coefficients from dynamic VQE:  0.9422844581123049 0.17029386365926402\n",
      "Total Iterations Required:  19\n"
     ]
    }
   ],
   "source": [
    "#define some noise model to use in pennylane from qiskit.test.mock\n",
    "from qiskit.test.mock import FakeLima\n",
    "from qiskit.providers.aer.noise import NoiseModel\n",
    "import mitiq as mq\n",
    "from mitiq.zne.scaling import fold_global\n",
    "from mitiq.zne.inference import RichardsonFactory\n",
    "from pennylane.transforms import mitigate_with_zne\n",
    "\n",
    "backend = FakeLima()\n",
    "noise_model = NoiseModel.from_backend(backend)\n",
    "\n",
    "#set up noisy device\n",
    "dev_sim = qml.device(\"qiskit.aer\", wires=2, noise_model=noise_model, optimization_level=0, shots=10000)\n",
    "\n",
    "# generate the prob function\n",
    "@qml.qnode(dev_sim)\n",
    "def noisy_prob_circuit(params):\n",
    "    ansatz(params, wires=dev_sim.wires)\n",
    "    return qml.probs(wires=dev_sim.wires)\n",
    "\n",
    "sol_params, energy, n, energy_history = run_vqe(alpha_k,np.array([1,0]),init_params,dev_sim,max_iter=20,debug=False,noisy=True)\n",
    "\n",
    "probs = noisy_prob_circuit(sol_params)\n",
    "coeffs = np.sqrt(probs[1:3])\n",
    "print(\"Result expected from classical computation: \", classical[0][0])\n",
    "print(\"Coefficients expected from classical computation: \",-classical[1][0][0],-classical[1][0][1])\n",
    "print(\"Result from dynamic VQE: \",energy)\n",
    "print(\"Coefficients from dynamic VQE: \",coeffs[0],coeffs[1])\n",
    "print(\"Total Iterations Required: \", n)"
   ]
  },
  {
   "cell_type": "code",
   "execution_count": 279,
   "id": "520358b1",
   "metadata": {},
   "outputs": [
    {
     "data": {
      "image/png": "[encoded data removed]",
      "text/plain": [
       "<Figure size 800x600 with 1 Axes>"
      ]
     },
     "metadata": {},
     "output_type": "display_data"
    }
   ],
   "source": [
    "plt.plot(energy_history, \"b\", label=\"Noisy VQE\")\n",
    "\n",
    "plt.ylabel(\"Energy\")\n",
    "plt.xlabel(\"Optimization steps\")\n",
    "plt.title(\"Convergence of noisy RBM\")\n",
    "plt.legend()\n",
    "plt.show()"
   ]
  },
  {
   "cell_type": "code",
   "execution_count": 289,
   "id": "060fb7f1",
   "metadata": {},
   "outputs": [
    {
     "data": {
      "image/png": "[encoded data removed]",
      "text/plain": [
       "<Figure size 800x600 with 1 Axes>"
      ]
     },
     "metadata": {},
     "output_type": "display_data"
    }
   ],
   "source": [
    "solGaler=phibuilderFromCoeffs(coeffs)\n",
    "lamGaler=solFull[0][0]\n",
    "\n",
    "# Make plots of the numerical wavefunction \n",
    "fig, ax = plt.subplots(1,1)\n",
    "\n",
    "ax.plot(x_array,solFinite,label=r'Finite element method')\n",
    "ax.plot(x_array,solGaler,label= r'Noisy Galerkin')\n",
    "\n",
    "ax.set_title('Numerical solutions')\n",
    "\n",
    "ax.legend(loc=\"center left\")\n",
    "\n",
    "plt.show()"
   ]
  },
  {
   "cell_type": "code",
   "execution_count": 292,
   "id": "0576855d",
   "metadata": {},
   "outputs": [
    {
     "name": "stdout",
     "output_type": "stream",
     "text": [
      "Result expected from classical computation:  3.2502202855515776\n",
      "Coefficients expected from classical computation:  0.9913354984896009 0.131354213614845\n",
      "Result from noisy VQE:  3.058681718969153\n",
      "Coefficients from noisy VQE:  0.940850678907126 0.1606237840420901\n",
      "Total Iterations Required:  19\n"
     ]
    }
   ],
   "source": [
    "probs = noisy_prob_circuit(sol_params)\n",
    "coeffs = np.sqrt(probs[1:3])\n",
    "print(\"Result expected from classical computation: \", classical[0][0])\n",
    "print(\"Coefficients expected from classical computation: \",-classical[1][0][0],-classical[1][0][1])\n",
    "print(\"Result from noisy VQE: \",energy)\n",
    "print(\"Coefficients from noisy VQE: \",coeffs[0],coeffs[1])\n",
    "print(\"Total Iterations Required: \", n)"
   ]
  },
  {
   "cell_type": "markdown",
   "id": "8ad56131",
   "metadata": {},
   "source": []
  },
  {
   "cell_type": "code",
   "execution_count": 262,
   "metadata": {},
   "outputs": [
    {
     "name": "stdout",
     "output_type": "stream",
     "text": [
      "0.0\n"
     ]
    }
   ],
   "source": [
    "# generate the prob function\n",
    "@qml.qnode(dev_sim)\n",
    "def noisy_measure_circuit(params):\n",
    "    ansatz(params, wires=dev_sim.wires)\n",
    "    return qml.probs(wires=dev_sim.wires)\n",
    "\n",
    "# generate the prob function\n",
    "@qml.qnode(dev)\n",
    "def measure_circuit(params,wire):\n",
    "    ansatz(params, wires=dev.wires)\n",
    "    return qml.expval(qml.PauliX(wire))\n",
    "\n",
    "print(measure_circuit(sol_params,0))"
   ]
  },
  {
   "cell_type": "code",
   "execution_count": 206,
   "id": "4f7342a6",
   "metadata": {},
   "outputs": [
    {
     "name": "stdout",
     "output_type": "stream",
     "text": [
      "[0.0926 0.9074]\n"
     ]
    },
    {
     "ename": "TypeError",
     "evalue": "expected 1D or 2D array for y",
     "output_type": "error",
     "traceback": [
      "\u001b[0;31m---------------------------------------------------------------------------\u001b[0m",
      "\u001b[0;31mTypeError\u001b[0m                                 Traceback (most recent call last)",
      "\u001b[0;32m<ipython-input-206-6b11519877b7>\u001b[0m in \u001b[0;36m<module>\u001b[0;34m\u001b[0m\n\u001b[1;32m      9\u001b[0m \u001b[0;31m#use ZNE to mitigate error\u001b[0m\u001b[0;34m\u001b[0m\u001b[0;34m\u001b[0m\u001b[0;34m\u001b[0m\u001b[0m\n\u001b[1;32m     10\u001b[0m \u001b[0mmitigated_qnode\u001b[0m \u001b[0;34m=\u001b[0m \u001b[0mmitigate_with_zne\u001b[0m\u001b[0;34m(\u001b[0m\u001b[0mscale_factors\u001b[0m\u001b[0;34m,\u001b[0m \u001b[0mfold_global\u001b[0m\u001b[0;34m,\u001b[0m \u001b[0mextrapolate\u001b[0m\u001b[0;34m)\u001b[0m\u001b[0;34m(\u001b[0m\u001b[0msim_qnode\u001b[0m\u001b[0;34m)\u001b[0m\u001b[0;34m\u001b[0m\u001b[0;34m\u001b[0m\u001b[0m\n\u001b[0;32m---> 11\u001b[0;31m \u001b[0mzne_result\u001b[0m \u001b[0;34m=\u001b[0m \u001b[0mmitigated_qnode\u001b[0m\u001b[0;34m(\u001b[0m\u001b[0msol_params\u001b[0m\u001b[0;34m,\u001b[0m \u001b[0;36m0\u001b[0m\u001b[0;34m,\u001b[0m\u001b[0mshots\u001b[0m\u001b[0;34m=\u001b[0m\u001b[0;36m2\u001b[0m\u001b[0;34m**\u001b[0m\u001b[0;36m14\u001b[0m\u001b[0;34m)\u001b[0m\u001b[0;34m\u001b[0m\u001b[0;34m\u001b[0m\u001b[0m\n\u001b[0m",
      "\u001b[0;32m~/.local/lib/python3.8/site-packages/pennylane/transforms/batch_transform.py\u001b[0m in \u001b[0;36m_wrapper\u001b[0;34m(*args, **kwargs)\u001b[0m\n\u001b[1;32m    311\u001b[0m             )\n\u001b[1;32m    312\u001b[0m \u001b[0;34m\u001b[0m\u001b[0m\n\u001b[0;32m--> 313\u001b[0;31m             \u001b[0;32mreturn\u001b[0m \u001b[0mprocessing_fn\u001b[0m\u001b[0;34m(\u001b[0m\u001b[0mres\u001b[0m\u001b[0;34m)\u001b[0m\u001b[0;34m\u001b[0m\u001b[0;34m\u001b[0m\u001b[0m\n\u001b[0m\u001b[1;32m    314\u001b[0m \u001b[0;34m\u001b[0m\u001b[0m\n\u001b[1;32m    315\u001b[0m         \u001b[0;32mreturn\u001b[0m \u001b[0m_wrapper\u001b[0m\u001b[0;34m\u001b[0m\u001b[0;34m\u001b[0m\u001b[0m\n",
      "\u001b[0;32m~/.local/lib/python3.8/site-packages/pennylane/transforms/mitigate.py\u001b[0m in \u001b[0;36mprocessing_fn\u001b[0;34m(results)\u001b[0m\n\u001b[1;32m    222\u001b[0m         ]  # creates nested list according to reps_per_factor\n\u001b[1;32m    223\u001b[0m         \u001b[0mresults\u001b[0m \u001b[0;34m=\u001b[0m \u001b[0mmean\u001b[0m\u001b[0;34m(\u001b[0m\u001b[0mresults\u001b[0m\u001b[0;34m,\u001b[0m \u001b[0maxis\u001b[0m\u001b[0;34m=\u001b[0m\u001b[0;36m1\u001b[0m\u001b[0;34m)\u001b[0m\u001b[0;34m\u001b[0m\u001b[0;34m\u001b[0m\u001b[0m\n\u001b[0;32m--> 224\u001b[0;31m         \u001b[0mextrapolated\u001b[0m \u001b[0;34m=\u001b[0m \u001b[0mextrapolate\u001b[0m\u001b[0;34m(\u001b[0m\u001b[0mscale_factors\u001b[0m\u001b[0;34m,\u001b[0m \u001b[0mresults\u001b[0m\u001b[0;34m,\u001b[0m \u001b[0;34m**\u001b[0m\u001b[0mextrapolate_kwargs\u001b[0m\u001b[0;34m)\u001b[0m\u001b[0;34m\u001b[0m\u001b[0;34m\u001b[0m\u001b[0m\n\u001b[0m\u001b[1;32m    225\u001b[0m         \u001b[0;32mreturn\u001b[0m \u001b[0mextrapolated\u001b[0m\u001b[0;34m[\u001b[0m\u001b[0;36m0\u001b[0m\u001b[0;34m]\u001b[0m \u001b[0;32mif\u001b[0m \u001b[0mshape\u001b[0m\u001b[0;34m(\u001b[0m\u001b[0mextrapolated\u001b[0m\u001b[0;34m)\u001b[0m \u001b[0;34m==\u001b[0m \u001b[0;34m(\u001b[0m\u001b[0;36m1\u001b[0m\u001b[0;34m,\u001b[0m\u001b[0;34m)\u001b[0m \u001b[0;32melse\u001b[0m \u001b[0mextrapolated\u001b[0m\u001b[0;34m\u001b[0m\u001b[0;34m\u001b[0m\u001b[0m\n\u001b[1;32m    226\u001b[0m \u001b[0;34m\u001b[0m\u001b[0m\n",
      "\u001b[0;32m~/.local/lib/python3.8/site-packages/mitiq/zne/inference.py\u001b[0m in \u001b[0;36mextrapolate\u001b[0;34m(scale_factors, exp_values, full_output)\u001b[0m\n\u001b[1;32m    932\u001b[0m         \u001b[0;31m# with order equal to the number of data points minus 1.\u001b[0m\u001b[0;34m\u001b[0m\u001b[0;34m\u001b[0m\u001b[0;34m\u001b[0m\u001b[0m\n\u001b[1;32m    933\u001b[0m         \u001b[0morder\u001b[0m \u001b[0;34m=\u001b[0m \u001b[0mlen\u001b[0m\u001b[0;34m(\u001b[0m\u001b[0mscale_factors\u001b[0m\u001b[0;34m)\u001b[0m \u001b[0;34m-\u001b[0m \u001b[0;36m1\u001b[0m\u001b[0;34m\u001b[0m\u001b[0;34m\u001b[0m\u001b[0m\n\u001b[0;32m--> 934\u001b[0;31m         return PolyFactory.extrapolate(\n\u001b[0m\u001b[1;32m    935\u001b[0m             \u001b[0mscale_factors\u001b[0m\u001b[0;34m,\u001b[0m \u001b[0mexp_values\u001b[0m\u001b[0;34m,\u001b[0m \u001b[0morder\u001b[0m\u001b[0;34m,\u001b[0m \u001b[0mfull_output\u001b[0m\u001b[0;34m\u001b[0m\u001b[0;34m\u001b[0m\u001b[0m\n\u001b[1;32m    936\u001b[0m         )\n",
      "\u001b[0;32m~/.local/lib/python3.8/site-packages/mitiq/zne/inference.py\u001b[0m in \u001b[0;36mextrapolate\u001b[0;34m(scale_factors, exp_values, order, full_output)\u001b[0m\n\u001b[1;32m    860\u001b[0m         \"\"\"\n\u001b[1;32m    861\u001b[0m \u001b[0;34m\u001b[0m\u001b[0m\n\u001b[0;32m--> 862\u001b[0;31m         opt_params, params_cov = mitiq_polyfit(\n\u001b[0m\u001b[1;32m    863\u001b[0m             \u001b[0mscale_factors\u001b[0m\u001b[0;34m,\u001b[0m \u001b[0mexp_values\u001b[0m\u001b[0;34m,\u001b[0m \u001b[0morder\u001b[0m\u001b[0;34m\u001b[0m\u001b[0;34m\u001b[0m\u001b[0m\n\u001b[1;32m    864\u001b[0m         )\n",
      "\u001b[0;32m~/.local/lib/python3.8/site-packages/mitiq/zne/inference.py\u001b[0m in \u001b[0;36mmitiq_polyfit\u001b[0;34m(scale_factors, exp_values, deg, weights)\u001b[0m\n\u001b[1;32m    185\u001b[0m     \u001b[0;32mwith\u001b[0m \u001b[0mwarnings\u001b[0m\u001b[0;34m.\u001b[0m\u001b[0mcatch_warnings\u001b[0m\u001b[0;34m(\u001b[0m\u001b[0mrecord\u001b[0m\u001b[0;34m=\u001b[0m\u001b[0;32mTrue\u001b[0m\u001b[0;34m)\u001b[0m \u001b[0;32mas\u001b[0m \u001b[0mwarn_list\u001b[0m\u001b[0;34m:\u001b[0m\u001b[0;34m\u001b[0m\u001b[0;34m\u001b[0m\u001b[0m\n\u001b[1;32m    186\u001b[0m         \u001b[0;32mtry\u001b[0m\u001b[0;34m:\u001b[0m\u001b[0;34m\u001b[0m\u001b[0;34m\u001b[0m\u001b[0m\n\u001b[0;32m--> 187\u001b[0;31m             opt_params, params_cov = np.polyfit(\n\u001b[0m\u001b[1;32m    188\u001b[0m                 \u001b[0mscale_factors\u001b[0m\u001b[0;34m,\u001b[0m \u001b[0mexp_values\u001b[0m\u001b[0;34m,\u001b[0m \u001b[0mdeg\u001b[0m\u001b[0;34m,\u001b[0m \u001b[0mw\u001b[0m\u001b[0;34m=\u001b[0m\u001b[0mweights\u001b[0m\u001b[0;34m,\u001b[0m \u001b[0mcov\u001b[0m\u001b[0;34m=\u001b[0m\u001b[0;32mTrue\u001b[0m\u001b[0;34m\u001b[0m\u001b[0;34m\u001b[0m\u001b[0m\n\u001b[1;32m    189\u001b[0m             )\n",
      "\u001b[0;32m<__array_function__ internals>\u001b[0m in \u001b[0;36mpolyfit\u001b[0;34m(*args, **kwargs)\u001b[0m\n",
      "\u001b[0;32m~/.local/lib/python3.8/site-packages/numpy/lib/polynomial.py\u001b[0m in \u001b[0;36mpolyfit\u001b[0;34m(x, y, deg, rcond, full, w, cov)\u001b[0m\n\u001b[1;32m    630\u001b[0m         \u001b[0;32mraise\u001b[0m \u001b[0mTypeError\u001b[0m\u001b[0;34m(\u001b[0m\u001b[0;34m\"expected non-empty vector for x\"\u001b[0m\u001b[0;34m)\u001b[0m\u001b[0;34m\u001b[0m\u001b[0;34m\u001b[0m\u001b[0m\n\u001b[1;32m    631\u001b[0m     \u001b[0;32mif\u001b[0m \u001b[0my\u001b[0m\u001b[0;34m.\u001b[0m\u001b[0mndim\u001b[0m \u001b[0;34m<\u001b[0m \u001b[0;36m1\u001b[0m \u001b[0;32mor\u001b[0m \u001b[0my\u001b[0m\u001b[0;34m.\u001b[0m\u001b[0mndim\u001b[0m \u001b[0;34m>\u001b[0m \u001b[0;36m2\u001b[0m\u001b[0;34m:\u001b[0m\u001b[0;34m\u001b[0m\u001b[0;34m\u001b[0m\u001b[0m\n\u001b[0;32m--> 632\u001b[0;31m         \u001b[0;32mraise\u001b[0m \u001b[0mTypeError\u001b[0m\u001b[0;34m(\u001b[0m\u001b[0;34m\"expected 1D or 2D array for y\"\u001b[0m\u001b[0;34m)\u001b[0m\u001b[0;34m\u001b[0m\u001b[0;34m\u001b[0m\u001b[0m\n\u001b[0m\u001b[1;32m    633\u001b[0m     \u001b[0;32mif\u001b[0m \u001b[0mx\u001b[0m\u001b[0;34m.\u001b[0m\u001b[0mshape\u001b[0m\u001b[0;34m[\u001b[0m\u001b[0;36m0\u001b[0m\u001b[0;34m]\u001b[0m \u001b[0;34m!=\u001b[0m \u001b[0my\u001b[0m\u001b[0;34m.\u001b[0m\u001b[0mshape\u001b[0m\u001b[0;34m[\u001b[0m\u001b[0;36m0\u001b[0m\u001b[0;34m]\u001b[0m\u001b[0;34m:\u001b[0m\u001b[0;34m\u001b[0m\u001b[0;34m\u001b[0m\u001b[0m\n\u001b[1;32m    634\u001b[0m         \u001b[0;32mraise\u001b[0m \u001b[0mTypeError\u001b[0m\u001b[0;34m(\u001b[0m\u001b[0;34m\"expected x and y to have same length\"\u001b[0m\u001b[0;34m)\u001b[0m\u001b[0;34m\u001b[0m\u001b[0;34m\u001b[0m\u001b[0m\n",
      "\u001b[0;31mTypeError\u001b[0m: expected 1D or 2D array for y"
     ]
    }
   ],
   "source": [
    "#set up the extrapolation step and scale factors to use\n",
    "extrapolate = RichardsonFactory.extrapolate\n",
    "scale_factors = [1, 2, 3, 4, 5]\n",
    "\n",
    "print(noisy_prob_circuit(sol_params,1))\n",
    "\n",
    "sim_qnode = qml.QNode(noisy_prob_circuit, dev_sim)\n",
    "\n",
    "#use ZNE to mitigate error\n",
    "mitigated_qnode = mitigate_with_zne(scale_factors, fold_global, extrapolate)(sim_qnode)\n",
    "zne_result = mitigated_qnode(sol_params, 0,shots=2**14)"
   ]
  }
 ],
 "metadata": {
  "interpreter": {
   "hash": "916dbcbb3f70747c44a77c7bcd40155683ae19c65e1c03b4aa3499c5328201f1"
  },
  "kernelspec": {
   "display_name": "Python 3.8.10 64-bit",
   "language": "python",
   "name": "python3"
  },
  "language_info": {
   "codemirror_mode": {
    "name": "ipython",
    "version": 3
   },
   "file_extension": ".py",
   "mimetype": "text/x-python",
   "name": "python",
   "nbconvert_exporter": "python",
   "pygments_lexer": "ipython3",
   "version": "3.8.10"
  },
  "vscode": {
   "interpreter": {
    "hash": "916dbcbb3f70747c44a77c7bcd40155683ae19c65e1c03b4aa3499c5328201f1"
   }
  }
 },
 "nbformat": 4,
 "nbformat_minor": 5
}
