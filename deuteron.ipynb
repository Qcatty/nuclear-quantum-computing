{
  "nbformat": 4,
  "nbformat_minor": 0,
  "metadata": {
    "colab": {
      "name": "deuteron.ipynb",
      "provenance": [],
      "collapsed_sections": [],
      "authorship_tag": "ABX9TyPb1Q0P+2gwdBfETtpLW4Fw",
      "include_colab_link": true
    },
    "kernelspec": {
      "name": "python3",
      "display_name": "Python 3"
    },
    "language_info": {
      "name": "python"
    }
  },
  "cells": [
    {
      "cell_type": "markdown",
      "metadata": {
        "id": "view-in-github",
        "colab_type": "text"
      },
      "source": [
        "<a href=\"https://colab.research.google.com/github/kylegodbey/nuclear-quantum-computing/blob/main/deuteron.ipynb\" target=\"_parent\"><img src=\"https://colab.research.google.com/assets/colab-badge.svg\" alt=\"Open In Colab\"/></a>"
      ]
    },
    {
      "cell_type": "markdown",
      "source": [
        "# Quantum Computing the Deuteron\n",
        "\n",
        "TODO: Discuss 2018 paper [Cloud Quantum Computing of an Atomic Nucleus](https://journals.aps.org/prl/abstract/10.1103/PhysRevLett.120.210501), discuss the deuteron and the model maybe? It should be somewhere, maybe here instead of the notebook. Just need a light introduction before the real work.\n",
        "\n",
        "From the paper we can read that the authors employed the projection of hamiltonian operators onto quantum qubits (X,Y,Z) to construct a quantum computatable hamiltonian.\n",
        "By the Pionless EFT, a systematically improvable and model-independent approach to nuclear interactions in a regime where the momentum scale $Q$ of the interesting physics. The important part of this paper is how the deuteron creation and annihlation operator is mapped onto qubits using Jordan-Wigner transformation. Qubits can be used by quantum computers for boperations based on Pauli matrices (denoted as $X_{q}, Y_{q}$, and $Z_{q}$ on qubit $q$ ).\n",
        "\n",
        "The deuteron Hamiltonian is \n",
        "\\begin{equation}\n",
        "H_{N}=\\sum_{n, n^{\\prime}=0}^{N-1}\\left\\langle n^{\\prime}|(T+V)| n\\right\\rangle a_{n^{\\prime}}^{\\dagger} a_{n} .\n",
        "\\end{equation}\n",
        "\n",
        "The operators $a_{n}^{\\dagger}$ and $a_{n}$ here are the creatiion and annihilation operators. A deuteron is created or annihilated in the harmonic-oscillator $s$-wave state $|n\\rangle$. The matrix elements of the kinetic and potential energy are represented by:\n",
        "\\begin{equation}\n",
        "\\begin{aligned}\n",
        "\\left\\langle n^{\\prime}|T| n\\right\\rangle=& \\frac{\\hbar \\omega}{2}\\left[(2 n+3 / 2) \\delta_{n}^{n^{\\prime}}-\\sqrt{n(n+1 / 2)} \\delta_{n}^{n^{\\prime}+1}\\right.\\\\\n",
        "&\\left.-\\sqrt{(n+1)(n+3 / 2)} \\delta_{n}^{n^{\\prime}-1}\\right] \\\\\n",
        "\\left\\langle n^{\\prime}|V| n\\right\\rangle=& V_{0} \\delta_{n}^{0} \\delta_{n}^{n^{\\prime}}\n",
        "\\end{aligned}\n",
        "\\end{equation}\n",
        "\n",
        "Here, $V_{0}=-5.68658111 \\mathrm{MeV}$, and $n, n^{\\prime}=0,1, \\ldots N-1$, for a basis of dimension $N$. We set $\\hbar \\omega=7 \\mathrm{MeV}$, and the potential has an ultraviolet cutoff $\\Lambda \\approx 152 \\mathrm{MeV}$ [28], which is still well separated from the bound-state momentum of about $Q \\approx 46 \\mathrm{MeV}$.\n",
        "\n",
        "Mapping the deuteron onto qubits.-Quantum computers manipulate qubits by operations based on Pauli matrices (denoted as $X_{q}, Y_{q}$, and $Z_{q}$ on qubit $q$ ). The deuteron creation and annihilation operators can be mapped onto Pauli matrices via the Jordan-Wigner transformation\n",
        "\n",
        "\\begin{equation}\n",
        "\\begin{aligned}\n",
        "&a_{n}^{\\dagger} \\rightarrow \\frac{1}{2}\\left[\\prod_{j=0}^{n-1}-Z_{j}\\right]\\left(X_{n}-i Y_{n}\\right) \\\\\n",
        "&a_{n} \\rightarrow \\frac{1}{2}\\left[\\prod_{j=0}^{n-1}-Z_{j}\\right]\\left(X_{n}+i Y_{n}\\right) .\n",
        "\\end{aligned}\n",
        "\\end{equation}\n",
        "\n",
        "A spin up $|\\uparrow\\rangle$ (down $|\\downarrow\\rangle$ ) on qubit $n$ corresponds to zero (one) deuteron in the state $|n\\rangle$. As we deal with single-particle states, the symmetry under permutations plays no role here. To compute the ground-state energy of the deuteron we employ the following strategy. We determine the ground-state energies of the Hamiltonian (1) for $N=1,2,3$ and use those values to extrapolate the energy to the infinite-dimensional space. We have $H_{1}=0.218291\\left(Z_{0}-I\\right) \\mathrm{MeV}$, and its ground-state energy $E_{1}=\\left\\langle\\downarrow\\left|H_{1}\\right| \\downarrow\\right\\rangle \\approx-0.436 \\mathrm{MeV}$ requires no computation. Here, $I$ denotes the identity operation. For $N=2,3$ we have (all numbers are in units of $\\mathrm{MeV}$ )\n",
        "\n",
        "\\begin{equation}\n",
        "\\begin{aligned}\n",
        "H_{2}=& 5.906709 I+0.218291 Z_{0}-6.125 Z_{1} \\\\\n",
        "&-2.143304\\left(X_{0} X_{1}+Y_{0} Y_{1}\\right)\n",
        "\\end{aligned}\n",
        "\\end{equation}\n",
        "\n",
        "\n",
        "\\begin{equation}\n",
        "H_{3}=H_{2}+9.625\\left(I-Z_{2}\\right)-3.913119\\left(X_{1} X_{2}+Y_{1} Y_{2}\\right)\n",
        "\\end{equation}\n",
        "\n",
        "We note that the tridiagonal structure of our Hamiltonian can be implemented efficiently on a linear chain of connected qubits and this suits existing designs. The simulation of the Hamiltonian $H_{N}$ requires $N-1$ angles and the circuit depth is linear in $N$.\n",
        "\n",
        "For the extrapolation to the infinite space we employ the harmonic-oscillator variant of Lüscher's formula [29] for finite-size corrections to the ground-state energy [30]\n",
        "\n",
        "\\begin{equation}\n",
        "\\begin{aligned}\n",
        "E_{N}=&-\\frac{\\hbar^{2} k^{2}}{2 m}\\left(1-2 \\frac{\\gamma^{2}}{k} e^{-2 k L}-4 \\frac{\\gamma^{4} L}{k} e^{-4 k L}\\right) \\\\\n",
        "&+\\frac{\\hbar^{2} k \\gamma^{2}}{m}\\left(1-\\frac{\\gamma^{2}}{k}-\\frac{\\gamma^{4}}{4 k^{2}}+2 w_{2} k \\gamma^{4}\\right) e^{-4 k L} .\n",
        "\\end{aligned}\n",
        "\\end{equation}\n",
        "\n",
        "Here, the finite-basis result $E_{N}$ equals the infinite-basis energy $E_{\\infty}=-\\hbar^{2} k^{2} /(2 m)$ plus exponentially small corrections. In Eq. (6), L=L $L N)$ is the effective hardwall radius for the finite basis of dimension $N, k$ is the bound-state momentum, $\\gamma$ the asymptotic normalization coefficient, and $w_{2}$ an effective range parameter. For $N=1,2$, and 3 we have $L(N)=9.14,11.45$, and $13.38 \\mathrm{fm}$ as the effective hard-wall radius in the oscillator basis with $\\hbar \\omega=7 \\mathrm{MeV}$, respectively, and $L(N) \\approx$ $\\sqrt{(4 N+7) \\hbar /(m \\omega)}$ for $N \\gg 1[31]$. Using the groundstate energies $E_{N}$ for $N=1,2$ allows one to fit the leading $O\\left(e^{-2 k L}\\right)$ and subleading $O\\left(k L e^{-4 k L}\\right)$ corrections by adjusting $k$ and $\\gamma$. Inclusion of the $N=3$ ground-state energy also allows one to fit the smaller $O\\left(e^{-4 k L}\\right)$ correction by adjusting $w_{2}$. The results of this extrapolation are presented in the upper part of Table I, together with the energies $E_{N}$ from matrix diagonalization. We note that the most precise $N=2(N=3)$ extrapolated result is about $2 \\%(0.5 \\%)$ away from the deuteron's ground-state energy of $-2.22 \\mathrm{MeV}$.\n",
        "\n",
        "\n"
      ],
      "metadata": {
        "id": "6Y27vUXdNWpm"
      }
    },
    {
      "cell_type": "code",
      "source": [
        ""
      ],
      "metadata": {
        "id": "cDDZQfqhPPel"
      },
      "execution_count": null,
      "outputs": []
    }
  ]
}